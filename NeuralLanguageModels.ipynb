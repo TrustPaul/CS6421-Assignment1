{
  "nbformat": 4,
  "nbformat_minor": 0,
  "metadata": {
    "colab": {
      "name": "NeuralLanguageModels.ipynb",
      "provenance": [],
      "collapsed_sections": [],
      "authorship_tag": "ABX9TyNkjLknY2snziRD1Y+VAeFy",
      "include_colab_link": true
    },
    "kernelspec": {
      "name": "python3",
      "display_name": "Python 3"
    },
    "language_info": {
      "name": "python"
    },
    "accelerator": "GPU"
  },
  "cells": [
    {
      "cell_type": "markdown",
      "metadata": {
        "id": "view-in-github",
        "colab_type": "text"
      },
      "source": [
        "<a href=\"https://colab.research.google.com/github/TrustPaul/CS6421-Assignment1/blob/master/NeuralLanguageModels.ipynb\" target=\"_parent\"><img src=\"https://colab.research.google.com/assets/colab-badge.svg\" alt=\"Open In Colab\"/></a>"
      ]
    },
    {
      "cell_type": "markdown",
      "metadata": {
        "id": "LICMrhRidnQ3"
      },
      "source": [
        "Import the Neccessary Datasets"
      ]
    },
    {
      "cell_type": "code",
      "metadata": {
        "id": "iseMG_9xdskj"
      },
      "source": [
        "from torchtext.datasets import IMDB\n",
        "from torchtext.datasets import AG_NEWS\n",
        "from torchtext.datasets import SogouNews\n",
        "from torchtext.datasets import YelpReviewFull"
      ],
      "execution_count": 1,
      "outputs": []
    },
    {
      "cell_type": "code",
      "metadata": {
        "id": "eaePfZl2iA4g"
      },
      "source": [
        "import torch\n",
        "import pandas as pd\n",
        "import torch.nn as nn\n",
        "from sklearn.feature_extraction.text import CountVectorizer\n",
        "from torch.utils.data import DataLoader,Dataset"
      ],
      "execution_count": 10,
      "outputs": []
    },
    {
      "cell_type": "code",
      "metadata": {
        "colab": {
          "base_uri": "https://localhost:8080/"
        },
        "id": "ElF2CYLdgpM-",
        "outputId": "54928fb2-8b9f-497d-db98-938668f98dd8"
      },
      "source": [
        "imdb_train = IMDB(split='train')\n",
        "imdb_test = IMDB(split='test')\n",
        "\n",
        "ag_news_train = AG_NEWS(split='train')\n",
        "ag_news_test = AG_NEWS(split='test')\n",
        "\n",
        "\n",
        "sogounews_train = SogouNews(split='train')\n",
        "sogounews_test = SogouNews(split='test')\n",
        "\n",
        "yelp_train = YelpReviewFull(split='train')\n",
        "yelp_train = YelpReviewFull(split='test')\n"
      ],
      "execution_count": 3,
      "outputs": [
        {
          "output_type": "stream",
          "text": [
            "train.csv: 29.5MB [00:00, 107MB/s] \n",
            "test.csv: 1.86MB [00:00, 27.7MB/s]                  \n",
            "sogou_news_csv.tar.gz: 384MB [00:03, 99.7MB/s]\n",
            "yelp_review_full_csv.tar.gz: 196MB [00:02, 66.6MB/s]\n"
          ],
          "name": "stderr"
        }
      ]
    },
    {
      "cell_type": "markdown",
      "metadata": {
        "id": "yQgT_-UFhkgm"
      },
      "source": [
        "Feed-Forward Neural Language Models"
      ]
    },
    {
      "cell_type": "code",
      "metadata": {
        "colab": {
          "base_uri": "https://localhost:8080/"
        },
        "id": "l5P2oELrhjeB",
        "outputId": "7d692f53-bd25-4c65-e6eb-49450f059d34"
      },
      "source": [
        "class Data(Dataset):\n",
        "  def __init__(self,path):\n",
        "    df = pd.read_csv(path)\n",
        "    self.vectorizer=CountVectorizer(stop_words='english',max_df=0.99)\n",
        "    self.sequences=self.vectorizer.fit_transform(df.review.tolist())\n",
        "    "
      ],
      "execution_count": 8,
      "outputs": [
        {
          "output_type": "execute_result",
          "data": {
            "text/plain": [
              "(1,\n",
              " 'I got \\'new\\' tires from them and within two weeks got a flat. I took my car to a local mechanic to see if i could get the hole patched, but they said the reason I had a flat was because the previous patch had blown - WAIT, WHAT? I just got the tire and never needed to have it patched? This was supposed to be a new tire. \\\\nI took the tire over to Flynn\\'s and they told me that someone punctured my tire, then tried to patch it. So there are resentful tire slashers? I find that very unlikely. After arguing with the guy and telling him that his logic was far fetched he said he\\'d give me a new tire \\\\\"this time\\\\\". \\\\nI will never go back to Flynn\\'s b/c of the way this guy treated me and the simple fact that they gave me a used tire!')"
            ]
          },
          "metadata": {
            "tags": []
          },
          "execution_count": 8
        }
      ]
    },
    {
      "cell_type": "code",
      "metadata": {
        "id": "_3D-WlLWgidk"
      },
      "source": [
        ""
      ],
      "execution_count": null,
      "outputs": []
    }
  ]
}