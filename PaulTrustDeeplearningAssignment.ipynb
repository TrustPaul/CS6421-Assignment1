{
  "nbformat": 4,
  "nbformat_minor": 0,
  "metadata": {
    "colab": {
      "name": "PaulTrustDeeplearningAssignment.ipynb",
      "provenance": [],
      "collapsed_sections": [],
      "authorship_tag": "ABX9TyPUETGSG2fTLIZa22K2pSJM",
      "include_colab_link": true
    },
    "kernelspec": {
      "display_name": "Python 3",
      "name": "python3"
    }
  },
  "cells": [
    {
      "cell_type": "markdown",
      "metadata": {
        "id": "view-in-github",
        "colab_type": "text"
      },
      "source": [
        "<a href=\"https://colab.research.google.com/github/TrustPaul/CS6421-Assignment1/blob/master/PaulTrustDeeplearningAssignment.ipynb\" target=\"_parent\"><img src=\"https://colab.research.google.com/assets/colab-badge.svg\" alt=\"Open In Colab\"/></a>"
      ]
    },
    {
      "cell_type": "markdown",
      "metadata": {
        "id": "hwrS69EhKaKK"
      },
      "source": [
        ""
      ]
    },
    {
      "cell_type": "code",
      "metadata": {
        "id": "6cY_7ugeK6HR"
      },
      "source": [
        ""
      ],
      "execution_count": null,
      "outputs": []
    },
    {
      "cell_type": "markdown",
      "metadata": {
        "id": "-WQrI8ZCKcBP"
      },
      "source": [
        "CS6421 Deep Learning Assignment one\r\n",
        "Name: Paul Trust\r\n",
        "Student Number: 120222601\r\n",
        "Email:120222601@umail.ucc.ie\r\n"
      ]
    },
    {
      "cell_type": "code",
      "metadata": {
        "colab": {
          "base_uri": "https://localhost:8080/"
        },
        "id": "2uHUEvy-eMxQ",
        "outputId": "2433756f-8bdd-47a4-e0be-ce5eac26c16a"
      },
      "source": [
        "import tensorflow as tf\r\n",
        "\r\n",
        "import numpy as np\r\n",
        "import matplotlib.pyplot as plt\r\n",
        "\r\n",
        "# Load the fashion-mnist pre-shuffled train data and test data\r\n",
        "(x_train, y_train), (x_test, y_test) = tf.keras.datasets.fashion_mnist.load_data()\r\n",
        "\r\n",
        "print(\"x_train shape:\", x_train.shape, \"y_train shape:\", y_train.shape)"
      ],
      "execution_count": 1,
      "outputs": [
        {
          "output_type": "stream",
          "text": [
            "Downloading data from https://storage.googleapis.com/tensorflow/tf-keras-datasets/train-labels-idx1-ubyte.gz\n",
            "32768/29515 [=================================] - 0s 0us/step\n",
            "Downloading data from https://storage.googleapis.com/tensorflow/tf-keras-datasets/train-images-idx3-ubyte.gz\n",
            "26427392/26421880 [==============================] - 0s 0us/step\n",
            "Downloading data from https://storage.googleapis.com/tensorflow/tf-keras-datasets/t10k-labels-idx1-ubyte.gz\n",
            "8192/5148 [===============================================] - 0s 0us/step\n",
            "Downloading data from https://storage.googleapis.com/tensorflow/tf-keras-datasets/t10k-images-idx3-ubyte.gz\n",
            "4423680/4422102 [==============================] - 0s 0us/step\n",
            "x_train shape: (60000, 28, 28) y_train shape: (60000,)\n"
          ],
          "name": "stdout"
        }
      ]
    },
    {
      "cell_type": "code",
      "metadata": {
        "colab": {
          "base_uri": "https://localhost:8080/",
          "height": 350
        },
        "id": "wymShnv7eQBM",
        "outputId": "2dc8514b-3420-4782-e196-a93a8cc0535c"
      },
      "source": [
        "# Print training set shape - note there are 60,000 training data of image size of 28x28, 60,000 train labels)\r\n",
        "print(\"x_train shape:\", x_train.shape, \"y_train shape:\", y_train.shape)\r\n",
        "\r\n",
        "# Print the number of training and test datasets\r\n",
        "print(x_train.shape[0], 'train set')\r\n",
        "print(x_test.shape[0], 'test set')\r\n",
        "\r\n",
        "# Define the text labels\r\n",
        "fashion_mnist_labels = [\"T-shirt/top\",  # index 0\r\n",
        "                        \"Trouser\",      # index 1\r\n",
        "                        \"Pullover\",     # index 2 \r\n",
        "                        \"Dress\",        # index 3 \r\n",
        "                        \"Coat\",         # index 4\r\n",
        "                        \"Sandal\",       # index 5\r\n",
        "                        \"Shirt\",        # index 6 \r\n",
        "                        \"Sneaker\",      # index 7 \r\n",
        "                        \"Bag\",          # index 8 \r\n",
        "                        \"Ankle boot\"]   # index 9\r\n",
        "\r\n",
        "# Image index, you can pick any number between 0 and 59,999\r\n",
        "img_index = 5\r\n",
        "# y_train contains the lables, ranging from 0 to 9\r\n",
        "label_index = y_train[img_index]\r\n",
        "# Print the label, for example 2 Pullover\r\n",
        "print (\"y = \" + str(label_index) + \" \" +(fashion_mnist_labels[label_index]))\r\n",
        "# # Show one of the images from the training dataset\r\n",
        "plt.imshow(x_train[img_index])"
      ],
      "execution_count": 2,
      "outputs": [
        {
          "output_type": "stream",
          "text": [
            "x_train shape: (60000, 28, 28) y_train shape: (60000,)\n",
            "60000 train set\n",
            "10000 test set\n",
            "y = 2 Pullover\n"
          ],
          "name": "stdout"
        },
        {
          "output_type": "execute_result",
          "data": {
            "text/plain": [
              "<matplotlib.image.AxesImage at 0x7f0b2085b390>"
            ]
          },
          "metadata": {
            "tags": []
          },
          "execution_count": 2
        },
        {
          "output_type": "display_data",
          "data": {
            "image/png": "[encoded data removed]",
            "text/plain": [
              "<Figure size 432x288 with 1 Axes>"
            ]
          },
          "metadata": {
            "tags": [],
            "needs_background": "light"
          }
        }
      ]
    },
    {
      "cell_type": "code",
      "metadata": {
        "id": "OMQRHWSdeat0"
      },
      "source": [
        "x_train = x_train.astype('float32') / 255\r\n",
        "x_test = x_test.astype('float32') / 255"
      ],
      "execution_count": 3,
      "outputs": []
    },
    {
      "cell_type": "code",
      "metadata": {
        "colab": {
          "base_uri": "https://localhost:8080/"
        },
        "id": "o-288qWuel6J",
        "outputId": "770eeaa2-594e-4433-9224-1b3f0465eb09"
      },
      "source": [
        "print(\"Number of train data - \" + str(len(x_train)))\r\n",
        "print(\"Number of test data - \" + str(len(x_test)))"
      ],
      "execution_count": 4,
      "outputs": [
        {
          "output_type": "stream",
          "text": [
            "Number of train data - 60000\n",
            "Number of test data - 10000\n"
          ],
          "name": "stdout"
        }
      ]
    },
    {
      "cell_type": "code",
      "metadata": {
        "colab": {
          "base_uri": "https://localhost:8080/"
        },
        "id": "SjBke8E1epHG",
        "outputId": "ae36425a-8244-4319-df39-c5f2967aa67b"
      },
      "source": [
        "# Further break training data into train / validation sets (# put 5000 into validation set and keep remaining 55,000 for train)\r\n",
        "(x_train, x_valid) = x_train[5000:], x_train[:5000] \r\n",
        "(y_train, y_valid) = y_train[5000:], y_train[:5000]\r\n",
        "\r\n",
        "# Reshape input data from (28, 28) to (28, 28, 1)\r\n",
        "w, h = 28, 28\r\n",
        "x_train = x_train.reshape(x_train.shape[0], w, h, 1)\r\n",
        "x_valid = x_valid.reshape(x_valid.shape[0], w, h, 1)\r\n",
        "x_test = x_test.reshape(x_test.shape[0], w, h, 1)\r\n",
        "\r\n",
        "# One-hot encode the labels\r\n",
        "y_train = tf.keras.utils.to_categorical(y_train, 10)\r\n",
        "y_valid = tf.keras.utils.to_categorical(y_valid, 10)\r\n",
        "y_test = tf.keras.utils.to_categorical(y_test, 10)\r\n",
        "\r\n",
        "# Print training set shape\r\n",
        "print(\"x_train shape:\", x_train.shape, \"y_train shape:\", y_train.shape)\r\n",
        "\r\n",
        "# Print the number of training, validation, and test datasets\r\n",
        "print(x_train.shape[0], 'train set')\r\n",
        "print(x_valid.shape[0], 'validation set')\r\n",
        "print(x_test.shape[0], 'test set')"
      ],
      "execution_count": 5,
      "outputs": [
        {
          "output_type": "stream",
          "text": [
            "x_train shape: (55000, 28, 28, 1) y_train shape: (55000, 10)\n",
            "55000 train set\n",
            "5000 validation set\n",
            "10000 test set\n"
          ],
          "name": "stdout"
        }
      ]
    },
    {
      "cell_type": "code",
      "metadata": {
        "colab": {
          "base_uri": "https://localhost:8080/"
        },
        "id": "ohPcCLWieskP",
        "outputId": "abe50404-9954-41d6-f729-9b87dc8eeff3"
      },
      "source": [
        "# Baseline Model\r\n",
        "model = tf.keras.Sequential()\r\n",
        "\r\n",
        "# Must define the input shape in the first layer of the neural network\r\n",
        "model.add(tf.keras.layers.Conv2D(filters=64, kernel_size=2, padding='same', activation='relu', input_shape=(28,28,1))) \r\n",
        "model.add(tf.keras.layers.MaxPooling2D(pool_size=2))\r\n",
        "model.add(tf.keras.layers.Dropout(0.3))\r\n",
        "\r\n",
        "model.add(tf.keras.layers.Conv2D(filters=32, kernel_size=2, padding='same', activation='relu'))\r\n",
        "model.add(tf.keras.layers.MaxPooling2D(pool_size=2))\r\n",
        "model.add(tf.keras.layers.Dropout(0.3))\r\n",
        "\r\n",
        "model.add(tf.keras.layers.Flatten())\r\n",
        "model.add(tf.keras.layers.Dense(256, activation='relu'))\r\n",
        "model.add(tf.keras.layers.Dropout(0.5))\r\n",
        "model.add(tf.keras.layers.Dense(10, activation='softmax'))\r\n",
        "\r\n",
        "# Take a look at the model summary\r\n",
        "model.summary()"
      ],
      "execution_count": 6,
      "outputs": [
        {
          "output_type": "stream",
          "text": [
            "Model: \"sequential\"\n",
            "_________________________________________________________________\n",
            "Layer (type)                 Output Shape              Param #   \n",
            "=================================================================\n",
            "conv2d (Conv2D)              (None, 28, 28, 64)        320       \n",
            "_________________________________________________________________\n",
            "max_pooling2d (MaxPooling2D) (None, 14, 14, 64)        0         \n",
            "_________________________________________________________________\n",
            "dropout (Dropout)            (None, 14, 14, 64)        0         \n",
            "_________________________________________________________________\n",
            "conv2d_1 (Conv2D)            (None, 14, 14, 32)        8224      \n",
            "_________________________________________________________________\n",
            "max_pooling2d_1 (MaxPooling2 (None, 7, 7, 32)          0         \n",
            "_________________________________________________________________\n",
            "dropout_1 (Dropout)          (None, 7, 7, 32)          0         \n",
            "_________________________________________________________________\n",
            "flatten (Flatten)            (None, 1568)              0         \n",
            "_________________________________________________________________\n",
            "dense (Dense)                (None, 256)               401664    \n",
            "_________________________________________________________________\n",
            "dropout_2 (Dropout)          (None, 256)               0         \n",
            "_________________________________________________________________\n",
            "dense_1 (Dense)              (None, 10)                2570      \n",
            "=================================================================\n",
            "Total params: 412,778\n",
            "Trainable params: 412,778\n",
            "Non-trainable params: 0\n",
            "_________________________________________________________________\n"
          ],
          "name": "stdout"
        }
      ]
    },
    {
      "cell_type": "code",
      "metadata": {
        "id": "hRO_J-rNmPec"
      },
      "source": [
        "\r\n",
        "model.compile(loss='categorical_crossentropy',\r\n",
        "             optimizer='adam',\r\n",
        "             metrics=['accuracy'])"
      ],
      "execution_count": 7,
      "outputs": []
    },
    {
      "cell_type": "code",
      "metadata": {
        "colab": {
          "base_uri": "https://localhost:8080/"
        },
        "id": "yotjI-hmmW6X",
        "outputId": "38c87574-4c1f-4d64-83d8-edc6994eb7b7"
      },
      "source": [
        "from keras.callbacks import ModelCheckpoint\r\n",
        "\r\n",
        "checkpointer = ModelCheckpoint(filepath='model.weights.best.hdf5', verbose = 1, save_best_only=True)\r\n",
        "model.fit(x_train,\r\n",
        "         y_train,\r\n",
        "         batch_size=64,\r\n",
        "         epochs=10,\r\n",
        "         validation_data=(x_valid, y_valid),\r\n",
        "         callbacks=[checkpointer])"
      ],
      "execution_count": null,
      "outputs": [
        {
          "output_type": "stream",
          "text": [
            "Epoch 1/10\n",
            "860/860 [==============================] - 65s 76ms/step - loss: 0.8159 - accuracy: 0.7025 - val_loss: 0.3791 - val_accuracy: 0.8672\n",
            "\n",
            "Epoch 00001: val_loss improved from inf to 0.37909, saving model to model.weights.best.hdf5\n",
            "Epoch 2/10\n",
            "860/860 [==============================] - 65s 75ms/step - loss: 0.4126 - accuracy: 0.8501 - val_loss: 0.3140 - val_accuracy: 0.8888\n",
            "\n",
            "Epoch 00002: val_loss improved from 0.37909 to 0.31401, saving model to model.weights.best.hdf5\n",
            "Epoch 3/10\n",
            "860/860 [==============================] - 65s 75ms/step - loss: 0.3648 - accuracy: 0.8660 - val_loss: 0.2896 - val_accuracy: 0.8970\n",
            "\n",
            "Epoch 00003: val_loss improved from 0.31401 to 0.28955, saving model to model.weights.best.hdf5\n",
            "Epoch 4/10\n",
            "860/860 [==============================] - 65s 76ms/step - loss: 0.3358 - accuracy: 0.8784 - val_loss: 0.2762 - val_accuracy: 0.9012\n",
            "\n",
            "Epoch 00004: val_loss improved from 0.28955 to 0.27622, saving model to model.weights.best.hdf5\n",
            "Epoch 5/10\n",
            "860/860 [==============================] - 65s 75ms/step - loss: 0.3197 - accuracy: 0.8829 - val_loss: 0.2617 - val_accuracy: 0.9016\n",
            "\n",
            "Epoch 00005: val_loss improved from 0.27622 to 0.26174, saving model to model.weights.best.hdf5\n",
            "Epoch 6/10\n",
            "860/860 [==============================] - 65s 75ms/step - loss: 0.3076 - accuracy: 0.8875 - val_loss: 0.2561 - val_accuracy: 0.9040\n",
            "\n",
            "Epoch 00006: val_loss improved from 0.26174 to 0.25606, saving model to model.weights.best.hdf5\n",
            "Epoch 7/10\n",
            "860/860 [==============================] - 65s 75ms/step - loss: 0.2959 - accuracy: 0.8914 - val_loss: 0.2406 - val_accuracy: 0.9110\n",
            "\n",
            "Epoch 00007: val_loss improved from 0.25606 to 0.24064, saving model to model.weights.best.hdf5\n",
            "Epoch 8/10\n",
            "860/860 [==============================] - 65s 75ms/step - loss: 0.2768 - accuracy: 0.8973 - val_loss: 0.2401 - val_accuracy: 0.9128\n",
            "\n",
            "Epoch 00008: val_loss improved from 0.24064 to 0.24009, saving model to model.weights.best.hdf5\n",
            "Epoch 9/10\n",
            "860/860 [==============================] - 65s 76ms/step - loss: 0.2732 - accuracy: 0.8979 - val_loss: 0.2243 - val_accuracy: 0.9178\n",
            "\n",
            "Epoch 00009: val_loss improved from 0.24009 to 0.22428, saving model to model.weights.best.hdf5\n",
            "Epoch 10/10\n",
            "860/860 [==============================] - 65s 75ms/step - loss: 0.2608 - accuracy: 0.9037 - val_loss: 0.2200 - val_accuracy: 0.9170\n",
            "\n",
            "Epoch 00010: val_loss improved from 0.22428 to 0.21997, saving model to model.weights.best.hdf5\n"
          ],
          "name": "stdout"
        },
        {
          "output_type": "execute_result",
          "data": {
            "text/plain": [
              "<tensorflow.python.keras.callbacks.History at 0x7f1c6a9ce6d0>"
            ]
          },
          "metadata": {
            "tags": []
          },
          "execution_count": 26
        }
      ]
    },
    {
      "cell_type": "code",
      "metadata": {
        "id": "NCO2wNT-ptoz"
      },
      "source": [
        "# Load the weights with the best validation accuracy\r\n",
        "model.load_weights('model.weights.best.hdf5')"
      ],
      "execution_count": null,
      "outputs": []
    },
    {
      "cell_type": "code",
      "metadata": {
        "colab": {
          "base_uri": "https://localhost:8080/"
        },
        "id": "Jgjgic-gp6Xq",
        "outputId": "bc82abeb-92a6-497d-85fa-4419d700a9bf"
      },
      "source": [
        "# Evaluate the model on test set\r\n",
        "score = model.evaluate(x_test, y_test, verbose=0)\r\n",
        "\r\n",
        "# Print test accuracy\r\n",
        "print('\\n', 'Test accuracy:', score[1])"
      ],
      "execution_count": null,
      "outputs": [
        {
          "output_type": "stream",
          "text": [
            "\n",
            " Test accuracy: 0.9103000164031982\n"
          ],
          "name": "stdout"
        }
      ]
    },
    {
      "cell_type": "code",
      "metadata": {
        "colab": {
          "base_uri": "https://localhost:8080/"
        },
        "id": "aZH2cE6738te",
        "outputId": "fecf45e6-08c6-4e06-a5a6-d2f47ccd8297"
      },
      "source": [
        "# Modifications of filters to (32,16)\r\n",
        "model = tf.keras.Sequential()\r\n",
        "\r\n",
        "# Must define the input shape in the first layer of the neural network\r\n",
        "model.add(tf.keras.layers.Conv2D(filters=32, kernel_size=2, padding='same', activation='relu', input_shape=(28,28,1))) \r\n",
        "model.add(tf.keras.layers.MaxPooling2D(pool_size=2))\r\n",
        "model.add(tf.keras.layers.Dropout(0.3))\r\n",
        "\r\n",
        "model.add(tf.keras.layers.Conv2D(filters=16, kernel_size=2, padding='same', activation='relu'))\r\n",
        "model.add(tf.keras.layers.MaxPooling2D(pool_size=2))\r\n",
        "model.add(tf.keras.layers.Dropout(0.3))\r\n",
        "\r\n",
        "model.add(tf.keras.layers.Flatten())\r\n",
        "model.add(tf.keras.layers.Dense(256, activation='relu'))\r\n",
        "model.add(tf.keras.layers.Dropout(0.5))\r\n",
        "model.add(tf.keras.layers.Dense(10, activation='softmax'))\r\n",
        "\r\n",
        "# Take a look at the model summary\r\n",
        "model.summary()"
      ],
      "execution_count": null,
      "outputs": [
        {
          "output_type": "stream",
          "text": [
            "Model: \"sequential_4\"\n",
            "_________________________________________________________________\n",
            "Layer (type)                 Output Shape              Param #   \n",
            "=================================================================\n",
            "conv2d_8 (Conv2D)            (None, 28, 28, 32)        160       \n",
            "_________________________________________________________________\n",
            "max_pooling2d_8 (MaxPooling2 (None, 14, 14, 32)        0         \n",
            "_________________________________________________________________\n",
            "dropout_12 (Dropout)         (None, 14, 14, 32)        0         \n",
            "_________________________________________________________________\n",
            "conv2d_9 (Conv2D)            (None, 14, 14, 16)        2064      \n",
            "_________________________________________________________________\n",
            "max_pooling2d_9 (MaxPooling2 (None, 7, 7, 16)          0         \n",
            "_________________________________________________________________\n",
            "dropout_13 (Dropout)         (None, 7, 7, 16)          0         \n",
            "_________________________________________________________________\n",
            "flatten_4 (Flatten)          (None, 784)               0         \n",
            "_________________________________________________________________\n",
            "dense_8 (Dense)              (None, 256)               200960    \n",
            "_________________________________________________________________\n",
            "dropout_14 (Dropout)         (None, 256)               0         \n",
            "_________________________________________________________________\n",
            "dense_9 (Dense)              (None, 10)                2570      \n",
            "=================================================================\n",
            "Total params: 205,754\n",
            "Trainable params: 205,754\n",
            "Non-trainable params: 0\n",
            "_________________________________________________________________\n"
          ],
          "name": "stdout"
        }
      ]
    },
    {
      "cell_type": "code",
      "metadata": {
        "id": "Azl55wkfqXdH"
      },
      "source": [
        "model.compile(loss='categorical_crossentropy',\r\n",
        "             optimizer='adam',\r\n",
        "             metrics=['accuracy'])"
      ],
      "execution_count": null,
      "outputs": []
    },
    {
      "cell_type": "code",
      "metadata": {
        "colab": {
          "base_uri": "https://localhost:8080/"
        },
        "id": "md5gwumqulv4",
        "outputId": "638ae3ca-5091-4152-a5e1-d0f24539b8e1"
      },
      "source": [
        "\r\n",
        "from keras.callbacks import ModelCheckpoint\r\n",
        "\r\n",
        "checkpointer = ModelCheckpoint(filepath='model.weights.best.hdf5', verbose = 1, save_best_only=True)\r\n",
        "model.fit(x_train,\r\n",
        "         y_train,\r\n",
        "         batch_size=64,\r\n",
        "         epochs=10,\r\n",
        "         validation_data=(x_valid, y_valid),\r\n",
        "         callbacks=[checkpointer])"
      ],
      "execution_count": null,
      "outputs": [
        {
          "output_type": "stream",
          "text": [
            "Epoch 1/10\n",
            "860/860 [==============================] - 36s 42ms/step - loss: 0.9065 - accuracy: 0.6668 - val_loss: 0.4004 - val_accuracy: 0.8612\n",
            "\n",
            "Epoch 00001: val_loss improved from inf to 0.40045, saving model to model.weights.best.hdf5\n",
            "Epoch 2/10\n",
            "860/860 [==============================] - 36s 42ms/step - loss: 0.4697 - accuracy: 0.8300 - val_loss: 0.3490 - val_accuracy: 0.8766\n",
            "\n",
            "Epoch 00002: val_loss improved from 0.40045 to 0.34897, saving model to model.weights.best.hdf5\n",
            "Epoch 3/10\n",
            "860/860 [==============================] - 36s 42ms/step - loss: 0.4227 - accuracy: 0.8479 - val_loss: 0.3194 - val_accuracy: 0.8868\n",
            "\n",
            "Epoch 00003: val_loss improved from 0.34897 to 0.31939, saving model to model.weights.best.hdf5\n",
            "Epoch 4/10\n",
            "860/860 [==============================] - 36s 42ms/step - loss: 0.3886 - accuracy: 0.8569 - val_loss: 0.3052 - val_accuracy: 0.8890\n",
            "\n",
            "Epoch 00004: val_loss improved from 0.31939 to 0.30517, saving model to model.weights.best.hdf5\n",
            "Epoch 5/10\n",
            "860/860 [==============================] - 36s 42ms/step - loss: 0.3658 - accuracy: 0.8672 - val_loss: 0.2938 - val_accuracy: 0.8958\n",
            "\n",
            "Epoch 00005: val_loss improved from 0.30517 to 0.29377, saving model to model.weights.best.hdf5\n",
            "Epoch 6/10\n",
            "860/860 [==============================] - 36s 42ms/step - loss: 0.3549 - accuracy: 0.8712 - val_loss: 0.2827 - val_accuracy: 0.9002\n",
            "\n",
            "Epoch 00006: val_loss improved from 0.29377 to 0.28270, saving model to model.weights.best.hdf5\n",
            "Epoch 7/10\n",
            "860/860 [==============================] - 36s 42ms/step - loss: 0.3451 - accuracy: 0.8744 - val_loss: 0.2776 - val_accuracy: 0.8996\n",
            "\n",
            "Epoch 00007: val_loss improved from 0.28270 to 0.27757, saving model to model.weights.best.hdf5\n",
            "Epoch 8/10\n",
            "860/860 [==============================] - 36s 42ms/step - loss: 0.3311 - accuracy: 0.8764 - val_loss: 0.2627 - val_accuracy: 0.9064\n",
            "\n",
            "Epoch 00008: val_loss improved from 0.27757 to 0.26269, saving model to model.weights.best.hdf5\n",
            "Epoch 9/10\n",
            "860/860 [==============================] - 36s 42ms/step - loss: 0.3296 - accuracy: 0.8789 - val_loss: 0.2652 - val_accuracy: 0.9022\n",
            "\n",
            "Epoch 00009: val_loss did not improve from 0.26269\n",
            "Epoch 10/10\n",
            "860/860 [==============================] - 36s 42ms/step - loss: 0.3204 - accuracy: 0.8818 - val_loss: 0.2575 - val_accuracy: 0.9086\n",
            "\n",
            "Epoch 00010: val_loss improved from 0.26269 to 0.25750, saving model to model.weights.best.hdf5\n"
          ],
          "name": "stdout"
        },
        {
          "output_type": "execute_result",
          "data": {
            "text/plain": [
              "<tensorflow.python.keras.callbacks.History at 0x7f1c6aa673d0>"
            ]
          },
          "metadata": {
            "tags": []
          },
          "execution_count": 31
        }
      ]
    },
    {
      "cell_type": "code",
      "metadata": {
        "id": "-EE9jmbfu2Bi"
      },
      "source": [
        "# Load the weights with the best validation accuracy\r\n",
        "model.load_weights('model.weights.best.hdf5')"
      ],
      "execution_count": null,
      "outputs": []
    },
    {
      "cell_type": "code",
      "metadata": {
        "colab": {
          "base_uri": "https://localhost:8080/"
        },
        "id": "3LeTfTZjvAdV",
        "outputId": "f27c4c76-985b-41be-fddc-fab5a2395651"
      },
      "source": [
        "# Evaluate the model on test set\r\n",
        "score = model.evaluate(x_test, y_test, verbose=0)\r\n",
        "\r\n",
        "# Print test accuracy\r\n",
        "print('\\n', 'Test accuracy:', score[1])"
      ],
      "execution_count": null,
      "outputs": [
        {
          "output_type": "stream",
          "text": [
            "\n",
            " Test accuracy: 0.9000999927520752\n"
          ],
          "name": "stdout"
        }
      ]
    },
    {
      "cell_type": "code",
      "metadata": {
        "colab": {
          "base_uri": "https://localhost:8080/"
        },
        "id": "xG8yEPLF6U-f",
        "outputId": "4ad2d66e-6c72-469c-8ef2-f3f39223b8ce"
      },
      "source": [
        "# Modifications of filters to (64,64)\r\n",
        "model = tf.keras.Sequential()\r\n",
        "\r\n",
        "# Must define the input shape in the first layer of the neural network\r\n",
        "model.add(tf.keras.layers.Conv2D(filters=64, kernel_size=2, padding='same', activation='relu', input_shape=(28,28,1))) \r\n",
        "model.add(tf.keras.layers.MaxPooling2D(pool_size=2))\r\n",
        "model.add(tf.keras.layers.Dropout(0.3))\r\n",
        "\r\n",
        "model.add(tf.keras.layers.Conv2D(filters=64, kernel_size=2, padding='same', activation='relu'))\r\n",
        "model.add(tf.keras.layers.MaxPooling2D(pool_size=2))\r\n",
        "model.add(tf.keras.layers.Dropout(0.3))\r\n",
        "\r\n",
        "model.add(tf.keras.layers.Flatten())\r\n",
        "model.add(tf.keras.layers.Dense(256, activation='relu'))\r\n",
        "model.add(tf.keras.layers.Dropout(0.5))\r\n",
        "model.add(tf.keras.layers.Dense(10, activation='softmax'))\r\n",
        "\r\n",
        "# Take a look at the model summary\r\n",
        "model.summary()"
      ],
      "execution_count": null,
      "outputs": [
        {
          "output_type": "stream",
          "text": [
            "Model: \"sequential_5\"\n",
            "_________________________________________________________________\n",
            "Layer (type)                 Output Shape              Param #   \n",
            "=================================================================\n",
            "conv2d_10 (Conv2D)           (None, 28, 28, 64)        320       \n",
            "_________________________________________________________________\n",
            "max_pooling2d_10 (MaxPooling (None, 14, 14, 64)        0         \n",
            "_________________________________________________________________\n",
            "dropout_15 (Dropout)         (None, 14, 14, 64)        0         \n",
            "_________________________________________________________________\n",
            "conv2d_11 (Conv2D)           (None, 14, 14, 64)        16448     \n",
            "_________________________________________________________________\n",
            "max_pooling2d_11 (MaxPooling (None, 7, 7, 64)          0         \n",
            "_________________________________________________________________\n",
            "dropout_16 (Dropout)         (None, 7, 7, 64)          0         \n",
            "_________________________________________________________________\n",
            "flatten_5 (Flatten)          (None, 3136)              0         \n",
            "_________________________________________________________________\n",
            "dense_10 (Dense)             (None, 256)               803072    \n",
            "_________________________________________________________________\n",
            "dropout_17 (Dropout)         (None, 256)               0         \n",
            "_________________________________________________________________\n",
            "dense_11 (Dense)             (None, 10)                2570      \n",
            "=================================================================\n",
            "Total params: 822,410\n",
            "Trainable params: 822,410\n",
            "Non-trainable params: 0\n",
            "_________________________________________________________________\n"
          ],
          "name": "stdout"
        }
      ]
    },
    {
      "cell_type": "code",
      "metadata": {
        "id": "7JMBTttLxdC-"
      },
      "source": [
        "model.compile(loss='categorical_crossentropy',\r\n",
        "             optimizer='adam',\r\n",
        "             metrics=['accuracy'])"
      ],
      "execution_count": null,
      "outputs": []
    },
    {
      "cell_type": "code",
      "metadata": {
        "colab": {
          "base_uri": "https://localhost:8080/"
        },
        "id": "kEseVkVfxijs",
        "outputId": "367cb63a-c912-48ce-d826-7bda36efc163"
      },
      "source": [
        "from keras.callbacks import ModelCheckpoint\r\n",
        "\r\n",
        "checkpointer = ModelCheckpoint(filepath='model.weights.best.hdf5', verbose = 1, save_best_only=True)\r\n",
        "model.fit(x_train,\r\n",
        "         y_train,\r\n",
        "         batch_size=64,\r\n",
        "         epochs=10,\r\n",
        "         validation_data=(x_valid, y_valid),\r\n",
        "         callbacks=[checkpointer])"
      ],
      "execution_count": null,
      "outputs": [
        {
          "output_type": "stream",
          "text": [
            "Epoch 1/10\n",
            "860/860 [==============================] - 80s 93ms/step - loss: 0.7787 - accuracy: 0.7122 - val_loss: 0.3558 - val_accuracy: 0.8772\n",
            "\n",
            "Epoch 00001: val_loss improved from inf to 0.35582, saving model to model.weights.best.hdf5\n",
            "Epoch 2/10\n",
            "860/860 [==============================] - 80s 93ms/step - loss: 0.4019 - accuracy: 0.8565 - val_loss: 0.2998 - val_accuracy: 0.8960\n",
            "\n",
            "Epoch 00002: val_loss improved from 0.35582 to 0.29982, saving model to model.weights.best.hdf5\n",
            "Epoch 3/10\n",
            "860/860 [==============================] - 80s 93ms/step - loss: 0.3512 - accuracy: 0.8706 - val_loss: 0.2840 - val_accuracy: 0.8978\n",
            "\n",
            "Epoch 00003: val_loss improved from 0.29982 to 0.28400, saving model to model.weights.best.hdf5\n",
            "Epoch 4/10\n",
            "860/860 [==============================] - 79s 92ms/step - loss: 0.3224 - accuracy: 0.8826 - val_loss: 0.2674 - val_accuracy: 0.9018\n",
            "\n",
            "Epoch 00004: val_loss improved from 0.28400 to 0.26735, saving model to model.weights.best.hdf5\n",
            "Epoch 5/10\n",
            "860/860 [==============================] - 79s 92ms/step - loss: 0.3008 - accuracy: 0.8903 - val_loss: 0.2445 - val_accuracy: 0.9070\n",
            "\n",
            "Epoch 00005: val_loss improved from 0.26735 to 0.24450, saving model to model.weights.best.hdf5\n",
            "Epoch 6/10\n",
            "860/860 [==============================] - 79s 92ms/step - loss: 0.2808 - accuracy: 0.8980 - val_loss: 0.2415 - val_accuracy: 0.9068\n",
            "\n",
            "Epoch 00006: val_loss improved from 0.24450 to 0.24151, saving model to model.weights.best.hdf5\n",
            "Epoch 7/10\n",
            "860/860 [==============================] - 80s 93ms/step - loss: 0.2663 - accuracy: 0.9021 - val_loss: 0.2407 - val_accuracy: 0.9070\n",
            "\n",
            "Epoch 00007: val_loss improved from 0.24151 to 0.24068, saving model to model.weights.best.hdf5\n",
            "Epoch 8/10\n",
            "860/860 [==============================] - 79s 92ms/step - loss: 0.2570 - accuracy: 0.9058 - val_loss: 0.2226 - val_accuracy: 0.9178\n",
            "\n",
            "Epoch 00008: val_loss improved from 0.24068 to 0.22264, saving model to model.weights.best.hdf5\n",
            "Epoch 9/10\n",
            "860/860 [==============================] - 79s 92ms/step - loss: 0.2433 - accuracy: 0.9098 - val_loss: 0.2125 - val_accuracy: 0.9216\n",
            "\n",
            "Epoch 00009: val_loss improved from 0.22264 to 0.21252, saving model to model.weights.best.hdf5\n",
            "Epoch 10/10\n",
            "860/860 [==============================] - 79s 92ms/step - loss: 0.2412 - accuracy: 0.9108 - val_loss: 0.2038 - val_accuracy: 0.9236\n",
            "\n",
            "Epoch 00010: val_loss improved from 0.21252 to 0.20379, saving model to model.weights.best.hdf5\n"
          ],
          "name": "stdout"
        },
        {
          "output_type": "execute_result",
          "data": {
            "text/plain": [
              "<tensorflow.python.keras.callbacks.History at 0x7f1c67e0b0d0>"
            ]
          },
          "metadata": {
            "tags": []
          },
          "execution_count": 36
        }
      ]
    },
    {
      "cell_type": "code",
      "metadata": {
        "id": "l5WNnyF9xoMv"
      },
      "source": [
        "# Load the weights with the best validation accuracy\r\n",
        "model.load_weights('model.weights.best.hdf5')"
      ],
      "execution_count": null,
      "outputs": []
    },
    {
      "cell_type": "code",
      "metadata": {
        "colab": {
          "base_uri": "https://localhost:8080/"
        },
        "id": "LJ9kComsxygK",
        "outputId": "aead81d1-46e2-4ffb-cb83-57e39489af76"
      },
      "source": [
        "# Evaluate the model on test set\r\n",
        "score = model.evaluate(x_test, y_test, verbose=0)\r\n",
        "\r\n",
        "# Print test accuracy\r\n",
        "print('\\n', 'Test accuracy:', score[1])"
      ],
      "execution_count": null,
      "outputs": [
        {
          "output_type": "stream",
          "text": [
            "\n",
            " Test accuracy: 0.9158999919891357\n"
          ],
          "name": "stdout"
        }
      ]
    },
    {
      "cell_type": "code",
      "metadata": {
        "colab": {
          "base_uri": "https://localhost:8080/"
        },
        "id": "DSzZKVY_Fp3b",
        "outputId": "5b8b14ba-5651-4fa0-e67f-9d509a8e0f9b"
      },
      "source": [
        "# Modiication of Kernel Size to (5,3)\r\n",
        "# Model Parameters [(64,5),(32,3),(0.3,0.3)]\r\n",
        "model = tf.keras.Sequential()\r\n",
        "\r\n",
        "# Must define the input shape in the first layer of the neural network\r\n",
        "model.add(tf.keras.layers.Conv2D(filters=64, kernel_size=5, padding='same', activation='relu', input_shape=(28,28,1))) \r\n",
        "model.add(tf.keras.layers.MaxPooling2D(pool_size=2))\r\n",
        "model.add(tf.keras.layers.Dropout(0.3))\r\n",
        "\r\n",
        "model.add(tf.keras.layers.Conv2D(filters=32, kernel_size=3, padding='same', activation='relu'))\r\n",
        "model.add(tf.keras.layers.MaxPooling2D(pool_size=2))\r\n",
        "model.add(tf.keras.layers.Dropout(0.3))\r\n",
        "\r\n",
        "model.add(tf.keras.layers.Flatten())\r\n",
        "model.add(tf.keras.layers.Dense(256, activation='relu'))\r\n",
        "model.add(tf.keras.layers.Dropout(0.5))\r\n",
        "model.add(tf.keras.layers.Dense(10, activation='softmax'))\r\n",
        "\r\n",
        "# Take a look at the model summary\r\n",
        "model.summary()"
      ],
      "execution_count": null,
      "outputs": [
        {
          "output_type": "stream",
          "text": [
            "Model: \"sequential_6\"\n",
            "_________________________________________________________________\n",
            "Layer (type)                 Output Shape              Param #   \n",
            "=================================================================\n",
            "conv2d_12 (Conv2D)           (None, 28, 28, 64)        1664      \n",
            "_________________________________________________________________\n",
            "max_pooling2d_12 (MaxPooling (None, 14, 14, 64)        0         \n",
            "_________________________________________________________________\n",
            "dropout_18 (Dropout)         (None, 14, 14, 64)        0         \n",
            "_________________________________________________________________\n",
            "conv2d_13 (Conv2D)           (None, 14, 14, 32)        18464     \n",
            "_________________________________________________________________\n",
            "max_pooling2d_13 (MaxPooling (None, 7, 7, 32)          0         \n",
            "_________________________________________________________________\n",
            "dropout_19 (Dropout)         (None, 7, 7, 32)          0         \n",
            "_________________________________________________________________\n",
            "flatten_6 (Flatten)          (None, 1568)              0         \n",
            "_________________________________________________________________\n",
            "dense_12 (Dense)             (None, 256)               401664    \n",
            "_________________________________________________________________\n",
            "dropout_20 (Dropout)         (None, 256)               0         \n",
            "_________________________________________________________________\n",
            "dense_13 (Dense)             (None, 10)                2570      \n",
            "=================================================================\n",
            "Total params: 424,362\n",
            "Trainable params: 424,362\n",
            "Non-trainable params: 0\n",
            "_________________________________________________________________\n"
          ],
          "name": "stdout"
        }
      ]
    },
    {
      "cell_type": "code",
      "metadata": {
        "id": "wgTdNEojj-Kj"
      },
      "source": [
        "model.compile(loss='categorical_crossentropy',\r\n",
        "             optimizer='adam',\r\n",
        "             metrics=['accuracy'])"
      ],
      "execution_count": null,
      "outputs": []
    },
    {
      "cell_type": "code",
      "metadata": {
        "colab": {
          "base_uri": "https://localhost:8080/"
        },
        "id": "eJaFeKuwjr8a",
        "outputId": "4226fe9e-be47-4231-e7af-a8dd3457099d"
      },
      "source": [
        "from keras.callbacks import ModelCheckpoint\r\n",
        "\r\n",
        "checkpointer = ModelCheckpoint(filepath='model.weights.best.hdf5', verbose = 1, save_best_only=True)\r\n",
        "model.fit(x_train,\r\n",
        "         y_train,\r\n",
        "         batch_size=64,\r\n",
        "         epochs=10,\r\n",
        "         validation_data=(x_valid, y_valid),\r\n",
        "         callbacks=[checkpointer])"
      ],
      "execution_count": null,
      "outputs": [
        {
          "output_type": "stream",
          "text": [
            "Epoch 1/10\n",
            "860/860 [==============================] - 102s 118ms/step - loss: 0.8044 - accuracy: 0.7032 - val_loss: 0.3523 - val_accuracy: 0.8774\n",
            "\n",
            "Epoch 00001: val_loss improved from inf to 0.35230, saving model to model.weights.best.hdf5\n",
            "Epoch 2/10\n",
            "860/860 [==============================] - 101s 117ms/step - loss: 0.4044 - accuracy: 0.8555 - val_loss: 0.3000 - val_accuracy: 0.8912\n",
            "\n",
            "Epoch 00002: val_loss improved from 0.35230 to 0.30000, saving model to model.weights.best.hdf5\n",
            "Epoch 3/10\n",
            "860/860 [==============================] - 101s 117ms/step - loss: 0.3409 - accuracy: 0.8758 - val_loss: 0.2697 - val_accuracy: 0.9020\n",
            "\n",
            "Epoch 00003: val_loss improved from 0.30000 to 0.26969, saving model to model.weights.best.hdf5\n",
            "Epoch 4/10\n",
            "860/860 [==============================] - 100s 117ms/step - loss: 0.3151 - accuracy: 0.8826 - val_loss: 0.2689 - val_accuracy: 0.8992\n",
            "\n",
            "Epoch 00004: val_loss improved from 0.26969 to 0.26887, saving model to model.weights.best.hdf5\n",
            "Epoch 5/10\n",
            "860/860 [==============================] - 101s 117ms/step - loss: 0.2964 - accuracy: 0.8909 - val_loss: 0.2418 - val_accuracy: 0.9082\n",
            "\n",
            "Epoch 00005: val_loss improved from 0.26887 to 0.24180, saving model to model.weights.best.hdf5\n",
            "Epoch 6/10\n",
            "860/860 [==============================] - 101s 117ms/step - loss: 0.2792 - accuracy: 0.8956 - val_loss: 0.2437 - val_accuracy: 0.9082\n",
            "\n",
            "Epoch 00006: val_loss did not improve from 0.24180\n",
            "Epoch 7/10\n",
            "860/860 [==============================] - 100s 116ms/step - loss: 0.2721 - accuracy: 0.8971 - val_loss: 0.2319 - val_accuracy: 0.9144\n",
            "\n",
            "Epoch 00007: val_loss improved from 0.24180 to 0.23189, saving model to model.weights.best.hdf5\n",
            "Epoch 8/10\n",
            "860/860 [==============================] - 100s 116ms/step - loss: 0.2554 - accuracy: 0.9058 - val_loss: 0.2200 - val_accuracy: 0.9188\n",
            "\n",
            "Epoch 00008: val_loss improved from 0.23189 to 0.22000, saving model to model.weights.best.hdf5\n",
            "Epoch 9/10\n",
            "860/860 [==============================] - 100s 116ms/step - loss: 0.2483 - accuracy: 0.9051 - val_loss: 0.2124 - val_accuracy: 0.9244\n",
            "\n",
            "Epoch 00009: val_loss improved from 0.22000 to 0.21238, saving model to model.weights.best.hdf5\n",
            "Epoch 10/10\n",
            "860/860 [==============================] - 100s 116ms/step - loss: 0.2477 - accuracy: 0.9063 - val_loss: 0.2170 - val_accuracy: 0.9168\n",
            "\n",
            "Epoch 00010: val_loss did not improve from 0.21238\n"
          ],
          "name": "stdout"
        },
        {
          "output_type": "execute_result",
          "data": {
            "text/plain": [
              "<tensorflow.python.keras.callbacks.History at 0x7f1c67442810>"
            ]
          },
          "metadata": {
            "tags": []
          },
          "execution_count": 41
        }
      ]
    },
    {
      "cell_type": "code",
      "metadata": {
        "id": "6SIOo9LWyEp2"
      },
      "source": [
        "# Load the weights with the best validation accuracy\r\n",
        "model.load_weights('model.weights.best.hdf5')"
      ],
      "execution_count": null,
      "outputs": []
    },
    {
      "cell_type": "markdown",
      "metadata": {
        "id": "7x1Y9ysXyMje"
      },
      "source": [
        ""
      ]
    },
    {
      "cell_type": "code",
      "metadata": {
        "colab": {
          "base_uri": "https://localhost:8080/"
        },
        "id": "rKuAeusJyGMr",
        "outputId": "4f0bc491-9624-4a39-9628-565b1128963e"
      },
      "source": [
        "# Evaluate the model on test set\r\n",
        "score = model.evaluate(x_test, y_test, verbose=0)\r\n",
        "\r\n",
        "# Print test accuracy\r\n",
        "print('\\n', 'Test accuracy:', score[1])"
      ],
      "execution_count": null,
      "outputs": [
        {
          "output_type": "stream",
          "text": [
            "\n",
            " Test accuracy: 0.9108999967575073\n"
          ],
          "name": "stdout"
        }
      ]
    },
    {
      "cell_type": "code",
      "metadata": {
        "id": "7fDZe1UHx9-3"
      },
      "source": [
        "\r\n",
        "# Evaluate the model on test set\r\n",
        "score = model.evaluate(x_test, y_test, verbose=0)\r\n",
        "\r\n",
        "# Print test accuracy\r\n",
        "print('\\n', 'Test accuracy:', score[1])"
      ],
      "execution_count": null,
      "outputs": []
    },
    {
      "cell_type": "code",
      "metadata": {
        "colab": {
          "base_uri": "https://localhost:8080/"
        },
        "id": "CQ96Ecw6iu6q",
        "outputId": "7e074d91-3c27-4f7f-ca97-f3601087e84b"
      },
      "source": [
        "# Modifications to kernel size(3,2)\r\n",
        "#Model Parameters[(64,3),(32,2),(0.3,0.3)]\r\n",
        "model = tf.keras.Sequential()\r\n",
        "\r\n",
        "# Must define the input shape in the first layer of the neural network\r\n",
        "model.add(tf.keras.layers.Conv2D(filters=64, kernel_size=3, padding='same', activation='relu', input_shape=(28,28,1))) \r\n",
        "model.add(tf.keras.layers.MaxPooling2D(pool_size=2))\r\n",
        "model.add(tf.keras.layers.Dropout(0.3))\r\n",
        "\r\n",
        "model.add(tf.keras.layers.Conv2D(filters=32, kernel_size=2, padding='same', activation='relu'))\r\n",
        "model.add(tf.keras.layers.MaxPooling2D(pool_size=2))\r\n",
        "model.add(tf.keras.layers.Dropout(0.3))\r\n",
        "\r\n",
        "model.add(tf.keras.layers.Flatten())\r\n",
        "model.add(tf.keras.layers.Dense(256, activation='relu'))\r\n",
        "model.add(tf.keras.layers.Dropout(0.5))\r\n",
        "model.add(tf.keras.layers.Dense(10, activation='softmax'))\r\n",
        "\r\n",
        "# Take a look at the model summary\r\n",
        "model.summary()"
      ],
      "execution_count": null,
      "outputs": [
        {
          "output_type": "stream",
          "text": [
            "Model: \"sequential_7\"\n",
            "_________________________________________________________________\n",
            "Layer (type)                 Output Shape              Param #   \n",
            "=================================================================\n",
            "conv2d_14 (Conv2D)           (None, 28, 28, 64)        640       \n",
            "_________________________________________________________________\n",
            "max_pooling2d_14 (MaxPooling (None, 14, 14, 64)        0         \n",
            "_________________________________________________________________\n",
            "dropout_21 (Dropout)         (None, 14, 14, 64)        0         \n",
            "_________________________________________________________________\n",
            "conv2d_15 (Conv2D)           (None, 14, 14, 32)        8224      \n",
            "_________________________________________________________________\n",
            "max_pooling2d_15 (MaxPooling (None, 7, 7, 32)          0         \n",
            "_________________________________________________________________\n",
            "dropout_22 (Dropout)         (None, 7, 7, 32)          0         \n",
            "_________________________________________________________________\n",
            "flatten_7 (Flatten)          (None, 1568)              0         \n",
            "_________________________________________________________________\n",
            "dense_14 (Dense)             (None, 256)               401664    \n",
            "_________________________________________________________________\n",
            "dropout_23 (Dropout)         (None, 256)               0         \n",
            "_________________________________________________________________\n",
            "dense_15 (Dense)             (None, 10)                2570      \n",
            "=================================================================\n",
            "Total params: 413,098\n",
            "Trainable params: 413,098\n",
            "Non-trainable params: 0\n",
            "_________________________________________________________________\n"
          ],
          "name": "stdout"
        }
      ]
    },
    {
      "cell_type": "code",
      "metadata": {
        "id": "1Unh1oWDAsow"
      },
      "source": [
        "model.compile(loss='categorical_crossentropy',\r\n",
        "             optimizer='adam',\r\n",
        "             metrics=['accuracy'])"
      ],
      "execution_count": null,
      "outputs": []
    },
    {
      "cell_type": "code",
      "metadata": {
        "colab": {
          "base_uri": "https://localhost:8080/"
        },
        "id": "1VtFU3suyQo_",
        "outputId": "0a4f12fb-5ecc-4b58-b907-37b9af8e1a00"
      },
      "source": [
        "from keras.callbacks import ModelCheckpoint\r\n",
        "\r\n",
        "checkpointer = ModelCheckpoint(filepath='model.weights.best.hdf5', verbose = 1, save_best_only=True)\r\n",
        "model.fit(x_train,\r\n",
        "         y_train,\r\n",
        "         batch_size=64,\r\n",
        "         epochs=10,\r\n",
        "         validation_data=(x_valid, y_valid),\r\n",
        "         callbacks=[checkpointer])"
      ],
      "execution_count": null,
      "outputs": [
        {
          "output_type": "stream",
          "text": [
            "Epoch 1/10\n",
            "860/860 [==============================] - 67s 78ms/step - loss: 0.8182 - accuracy: 0.6981 - val_loss: 0.3770 - val_accuracy: 0.8710\n",
            "\n",
            "Epoch 00001: val_loss improved from inf to 0.37704, saving model to model.weights.best.hdf5\n",
            "Epoch 2/10\n",
            "860/860 [==============================] - 67s 78ms/step - loss: 0.4154 - accuracy: 0.8488 - val_loss: 0.3120 - val_accuracy: 0.8864\n",
            "\n",
            "Epoch 00002: val_loss improved from 0.37704 to 0.31201, saving model to model.weights.best.hdf5\n",
            "Epoch 3/10\n",
            "860/860 [==============================] - 66s 77ms/step - loss: 0.3675 - accuracy: 0.8658 - val_loss: 0.2763 - val_accuracy: 0.8990\n",
            "\n",
            "Epoch 00003: val_loss improved from 0.31201 to 0.27633, saving model to model.weights.best.hdf5\n",
            "Epoch 4/10\n",
            "860/860 [==============================] - 67s 78ms/step - loss: 0.3365 - accuracy: 0.8760 - val_loss: 0.2623 - val_accuracy: 0.9046\n",
            "\n",
            "Epoch 00004: val_loss improved from 0.27633 to 0.26232, saving model to model.weights.best.hdf5\n",
            "Epoch 5/10\n",
            "860/860 [==============================] - 66s 77ms/step - loss: 0.3166 - accuracy: 0.8823 - val_loss: 0.2620 - val_accuracy: 0.9018\n",
            "\n",
            "Epoch 00005: val_loss improved from 0.26232 to 0.26202, saving model to model.weights.best.hdf5\n",
            "Epoch 6/10\n",
            "860/860 [==============================] - 67s 77ms/step - loss: 0.2967 - accuracy: 0.8900 - val_loss: 0.2467 - val_accuracy: 0.9066\n",
            "\n",
            "Epoch 00006: val_loss improved from 0.26202 to 0.24673, saving model to model.weights.best.hdf5\n",
            "Epoch 7/10\n",
            "860/860 [==============================] - 66s 77ms/step - loss: 0.2876 - accuracy: 0.8937 - val_loss: 0.2275 - val_accuracy: 0.9160\n",
            "\n",
            "Epoch 00007: val_loss improved from 0.24673 to 0.22752, saving model to model.weights.best.hdf5\n",
            "Epoch 8/10\n",
            "860/860 [==============================] - 66s 77ms/step - loss: 0.2771 - accuracy: 0.8975 - val_loss: 0.2235 - val_accuracy: 0.9162\n",
            "\n",
            "Epoch 00008: val_loss improved from 0.22752 to 0.22352, saving model to model.weights.best.hdf5\n",
            "Epoch 9/10\n",
            "860/860 [==============================] - 66s 77ms/step - loss: 0.2584 - accuracy: 0.9035 - val_loss: 0.2156 - val_accuracy: 0.9186\n",
            "\n",
            "Epoch 00009: val_loss improved from 0.22352 to 0.21563, saving model to model.weights.best.hdf5\n",
            "Epoch 10/10\n",
            "860/860 [==============================] - 66s 77ms/step - loss: 0.2570 - accuracy: 0.9047 - val_loss: 0.2147 - val_accuracy: 0.9196\n",
            "\n",
            "Epoch 00010: val_loss improved from 0.21563 to 0.21474, saving model to model.weights.best.hdf5\n"
          ],
          "name": "stdout"
        },
        {
          "output_type": "execute_result",
          "data": {
            "text/plain": [
              "<tensorflow.python.keras.callbacks.History at 0x7f1c6735b650>"
            ]
          },
          "metadata": {
            "tags": []
          },
          "execution_count": 52
        }
      ]
    },
    {
      "cell_type": "code",
      "metadata": {
        "id": "aazD_GM1yZ0u"
      },
      "source": [
        "# Load the weights with the best validation accuracy\r\n",
        "model.load_weights('model.weights.best.hdf5')"
      ],
      "execution_count": null,
      "outputs": []
    },
    {
      "cell_type": "code",
      "metadata": {
        "colab": {
          "base_uri": "https://localhost:8080/"
        },
        "id": "H8yg7GkeyeyM",
        "outputId": "79a605e2-3301-4f40-9ef6-091eba3b0280"
      },
      "source": [
        "\r\n",
        "# Evaluate the model on test set\r\n",
        "score = model.evaluate(x_test, y_test, verbose=0)\r\n",
        "\r\n",
        "# Print test accuracy\r\n",
        "print('\\n', 'Test accuracy:', score[1])"
      ],
      "execution_count": null,
      "outputs": [
        {
          "output_type": "stream",
          "text": [
            "\n",
            " Test accuracy: 0.9121000170707703\n"
          ],
          "name": "stdout"
        }
      ]
    },
    {
      "cell_type": "code",
      "metadata": {
        "colab": {
          "base_uri": "https://localhost:8080/"
        },
        "id": "uyWBsEqC-acz",
        "outputId": "755035ea-fbd4-4966-df28-6cc372c0f66e"
      },
      "source": [
        "# Modification of Dropout to (0.3,0.25)\r\n",
        "model = tf.keras.Sequential()\r\n",
        "\r\n",
        "# Must define the input shape in the first layer of the neural network\r\n",
        "model.add(tf.keras.layers.Conv2D(filters=64, kernel_size=2, padding='same', activation='relu', input_shape=(28,28,1))) \r\n",
        "model.add(tf.keras.layers.MaxPooling2D(pool_size=2))\r\n",
        "model.add(tf.keras.layers.Dropout(0.3))\r\n",
        "\r\n",
        "model.add(tf.keras.layers.Conv2D(filters=32, kernel_size=2, padding='same', activation='relu'))\r\n",
        "model.add(tf.keras.layers.MaxPooling2D(pool_size=2))\r\n",
        "model.add(tf.keras.layers.Dropout(0.25))\r\n",
        "\r\n",
        "model.add(tf.keras.layers.Flatten())\r\n",
        "model.add(tf.keras.layers.Dense(256, activation='relu'))\r\n",
        "model.add(tf.keras.layers.Dropout(0.5))\r\n",
        "model.add(tf.keras.layers.Dense(10, activation='softmax'))\r\n",
        "\r\n",
        "# Take a look at the model summary\r\n",
        "model.summary()"
      ],
      "execution_count": null,
      "outputs": [
        {
          "output_type": "stream",
          "text": [
            "Model: \"sequential_8\"\n",
            "_________________________________________________________________\n",
            "Layer (type)                 Output Shape              Param #   \n",
            "=================================================================\n",
            "conv2d_16 (Conv2D)           (None, 28, 28, 64)        320       \n",
            "_________________________________________________________________\n",
            "max_pooling2d_16 (MaxPooling (None, 14, 14, 64)        0         \n",
            "_________________________________________________________________\n",
            "dropout_24 (Dropout)         (None, 14, 14, 64)        0         \n",
            "_________________________________________________________________\n",
            "conv2d_17 (Conv2D)           (None, 14, 14, 32)        8224      \n",
            "_________________________________________________________________\n",
            "max_pooling2d_17 (MaxPooling (None, 7, 7, 32)          0         \n",
            "_________________________________________________________________\n",
            "dropout_25 (Dropout)         (None, 7, 7, 32)          0         \n",
            "_________________________________________________________________\n",
            "flatten_8 (Flatten)          (None, 1568)              0         \n",
            "_________________________________________________________________\n",
            "dense_16 (Dense)             (None, 256)               401664    \n",
            "_________________________________________________________________\n",
            "dropout_26 (Dropout)         (None, 256)               0         \n",
            "_________________________________________________________________\n",
            "dense_17 (Dense)             (None, 10)                2570      \n",
            "=================================================================\n",
            "Total params: 412,778\n",
            "Trainable params: 412,778\n",
            "Non-trainable params: 0\n",
            "_________________________________________________________________\n"
          ],
          "name": "stdout"
        }
      ]
    },
    {
      "cell_type": "code",
      "metadata": {
        "id": "v2iWaHwrylNM"
      },
      "source": [
        "model.compile(loss='categorical_crossentropy',\r\n",
        "             optimizer='adam',\r\n",
        "             metrics=['accuracy'])"
      ],
      "execution_count": null,
      "outputs": []
    },
    {
      "cell_type": "code",
      "metadata": {
        "colab": {
          "base_uri": "https://localhost:8080/"
        },
        "id": "euY9fSJtyszM",
        "outputId": "d8c27918-4699-46e9-d762-1813ba567de6"
      },
      "source": [
        "from keras.callbacks import ModelCheckpoint\r\n",
        "\r\n",
        "checkpointer = ModelCheckpoint(filepath='model.weights.best.hdf5', verbose = 1, save_best_only=True)\r\n",
        "model.fit(x_train,\r\n",
        "         y_train,\r\n",
        "         batch_size=64,\r\n",
        "         epochs=10,\r\n",
        "         validation_data=(x_valid, y_valid),\r\n",
        "         callbacks=[checkpointer])\r\n"
      ],
      "execution_count": null,
      "outputs": [
        {
          "output_type": "stream",
          "text": [
            "Epoch 1/10\n",
            "860/860 [==============================] - 65s 75ms/step - loss: 0.8098 - accuracy: 0.6982 - val_loss: 0.3791 - val_accuracy: 0.8704\n",
            "\n",
            "Epoch 00001: val_loss improved from inf to 0.37908, saving model to model.weights.best.hdf5\n",
            "Epoch 2/10\n",
            "860/860 [==============================] - 64s 75ms/step - loss: 0.4277 - accuracy: 0.8457 - val_loss: 0.3215 - val_accuracy: 0.8832\n",
            "\n",
            "Epoch 00002: val_loss improved from 0.37908 to 0.32149, saving model to model.weights.best.hdf5\n",
            "Epoch 3/10\n",
            "860/860 [==============================] - 64s 75ms/step - loss: 0.3758 - accuracy: 0.8629 - val_loss: 0.2862 - val_accuracy: 0.8950\n",
            "\n",
            "Epoch 00003: val_loss improved from 0.32149 to 0.28625, saving model to model.weights.best.hdf5\n",
            "Epoch 4/10\n",
            "860/860 [==============================] - 64s 75ms/step - loss: 0.3401 - accuracy: 0.8768 - val_loss: 0.2742 - val_accuracy: 0.8982\n",
            "\n",
            "Epoch 00004: val_loss improved from 0.28625 to 0.27424, saving model to model.weights.best.hdf5\n",
            "Epoch 5/10\n",
            "860/860 [==============================] - 64s 75ms/step - loss: 0.3241 - accuracy: 0.8796 - val_loss: 0.2568 - val_accuracy: 0.9044\n",
            "\n",
            "Epoch 00005: val_loss improved from 0.27424 to 0.25684, saving model to model.weights.best.hdf5\n",
            "Epoch 6/10\n",
            "860/860 [==============================] - 64s 75ms/step - loss: 0.2971 - accuracy: 0.8919 - val_loss: 0.2567 - val_accuracy: 0.9048\n",
            "\n",
            "Epoch 00006: val_loss improved from 0.25684 to 0.25670, saving model to model.weights.best.hdf5\n",
            "Epoch 7/10\n",
            "860/860 [==============================] - 64s 75ms/step - loss: 0.2930 - accuracy: 0.8908 - val_loss: 0.2429 - val_accuracy: 0.9130\n",
            "\n",
            "Epoch 00007: val_loss improved from 0.25670 to 0.24286, saving model to model.weights.best.hdf5\n",
            "Epoch 8/10\n",
            "860/860 [==============================] - 64s 74ms/step - loss: 0.2788 - accuracy: 0.8954 - val_loss: 0.2408 - val_accuracy: 0.9106\n",
            "\n",
            "Epoch 00008: val_loss improved from 0.24286 to 0.24075, saving model to model.weights.best.hdf5\n",
            "Epoch 9/10\n",
            "860/860 [==============================] - 64s 75ms/step - loss: 0.2698 - accuracy: 0.9001 - val_loss: 0.2257 - val_accuracy: 0.9164\n",
            "\n",
            "Epoch 00009: val_loss improved from 0.24075 to 0.22565, saving model to model.weights.best.hdf5\n",
            "Epoch 10/10\n",
            "860/860 [==============================] - 64s 75ms/step - loss: 0.2608 - accuracy: 0.9034 - val_loss: 0.2284 - val_accuracy: 0.9146\n",
            "\n",
            "Epoch 00010: val_loss did not improve from 0.22565\n"
          ],
          "name": "stdout"
        },
        {
          "output_type": "execute_result",
          "data": {
            "text/plain": [
              "<tensorflow.python.keras.callbacks.History at 0x7f1c671a9750>"
            ]
          },
          "metadata": {
            "tags": []
          },
          "execution_count": 57
        }
      ]
    },
    {
      "cell_type": "code",
      "metadata": {
        "id": "5QNnI6YSyvpM"
      },
      "source": [
        "# Load the weights with the best validation accuracy\r\n",
        "model.load_weights('model.weights.best.hdf5')"
      ],
      "execution_count": null,
      "outputs": []
    },
    {
      "cell_type": "code",
      "metadata": {
        "colab": {
          "base_uri": "https://localhost:8080/"
        },
        "id": "rPDUnbpnywcP",
        "outputId": "4d0d88d6-0208-456b-e79c-d8a41289eba1"
      },
      "source": [
        "\r\n",
        "# Evaluate the model on test set\r\n",
        "score = model.evaluate(x_test, y_test, verbose=0)\r\n",
        "\r\n",
        "# Print test accuracy\r\n",
        "print('\\n', 'Test accuracy:', score[1])"
      ],
      "execution_count": null,
      "outputs": [
        {
          "output_type": "stream",
          "text": [
            "\n",
            " Test accuracy: 0.9107000231742859\n"
          ],
          "name": "stdout"
        }
      ]
    },
    {
      "cell_type": "code",
      "metadata": {
        "colab": {
          "base_uri": "https://localhost:8080/"
        },
        "id": "1xsC0m0NFxQ4",
        "outputId": "b412b61e-f7aa-4687-b747-17c3b57ed464"
      },
      "source": [
        "# Modification of Dropout to (0.25,0.25)\r\n",
        "model = tf.keras.Sequential()\r\n",
        "\r\n",
        "# Must define the input shape in the first layer of the neural network\r\n",
        "model.add(tf.keras.layers.Conv2D(filters=64, kernel_size=2, padding='same', activation='relu', input_shape=(28,28,1))) \r\n",
        "model.add(tf.keras.layers.MaxPooling2D(pool_size=2))\r\n",
        "model.add(tf.keras.layers.Dropout(0.25))\r\n",
        "\r\n",
        "model.add(tf.keras.layers.Conv2D(filters=32, kernel_size=2, padding='same', activation='relu'))\r\n",
        "model.add(tf.keras.layers.MaxPooling2D(pool_size=2))\r\n",
        "model.add(tf.keras.layers.Dropout(0.25))\r\n",
        "\r\n",
        "model.add(tf.keras.layers.Flatten())\r\n",
        "model.add(tf.keras.layers.Dense(256, activation='relu'))\r\n",
        "model.add(tf.keras.layers.Dropout(0.5))\r\n",
        "model.add(tf.keras.layers.Dense(10, activation='softmax'))\r\n",
        "\r\n",
        "# Take a look at the model summary\r\n",
        "model.summary()"
      ],
      "execution_count": null,
      "outputs": [
        {
          "output_type": "stream",
          "text": [
            "Model: \"sequential_10\"\n",
            "_________________________________________________________________\n",
            "Layer (type)                 Output Shape              Param #   \n",
            "=================================================================\n",
            "conv2d_20 (Conv2D)           (None, 28, 28, 64)        320       \n",
            "_________________________________________________________________\n",
            "max_pooling2d_20 (MaxPooling (None, 14, 14, 64)        0         \n",
            "_________________________________________________________________\n",
            "dropout_30 (Dropout)         (None, 14, 14, 64)        0         \n",
            "_________________________________________________________________\n",
            "conv2d_21 (Conv2D)           (None, 14, 14, 32)        8224      \n",
            "_________________________________________________________________\n",
            "max_pooling2d_21 (MaxPooling (None, 7, 7, 32)          0         \n",
            "_________________________________________________________________\n",
            "dropout_31 (Dropout)         (None, 7, 7, 32)          0         \n",
            "_________________________________________________________________\n",
            "flatten_10 (Flatten)         (None, 1568)              0         \n",
            "_________________________________________________________________\n",
            "dense_20 (Dense)             (None, 256)               401664    \n",
            "_________________________________________________________________\n",
            "dropout_32 (Dropout)         (None, 256)               0         \n",
            "_________________________________________________________________\n",
            "dense_21 (Dense)             (None, 10)                2570      \n",
            "=================================================================\n",
            "Total params: 412,778\n",
            "Trainable params: 412,778\n",
            "Non-trainable params: 0\n",
            "_________________________________________________________________\n"
          ],
          "name": "stdout"
        }
      ]
    },
    {
      "cell_type": "code",
      "metadata": {
        "id": "Iky4YB3Cy0zn"
      },
      "source": [
        "model.compile(loss='categorical_crossentropy',\r\n",
        "             optimizer='adam',\r\n",
        "             metrics=['accuracy'])"
      ],
      "execution_count": null,
      "outputs": []
    },
    {
      "cell_type": "code",
      "metadata": {
        "colab": {
          "base_uri": "https://localhost:8080/"
        },
        "id": "peiTPI2Gy6Be",
        "outputId": "adf38a8c-2be5-493d-d35e-da1ffaafe7ed"
      },
      "source": [
        "from keras.callbacks import ModelCheckpoint\r\n",
        "\r\n",
        "checkpointer = ModelCheckpoint(filepath='model.weights.best.hdf5', verbose = 1, save_best_only=True)\r\n",
        "model.fit(x_train,\r\n",
        "         y_train,\r\n",
        "         batch_size=64,\r\n",
        "         epochs=10,\r\n",
        "         validation_data=(x_valid, y_valid),\r\n",
        "         callbacks=[checkpointer])\r\n"
      ],
      "execution_count": null,
      "outputs": [
        {
          "output_type": "stream",
          "text": [
            "Epoch 1/10\n",
            "860/860 [==============================] - 66s 76ms/step - loss: 0.8252 - accuracy: 0.6965 - val_loss: 0.3675 - val_accuracy: 0.8736\n",
            "\n",
            "Epoch 00001: val_loss improved from inf to 0.36748, saving model to model.weights.best.hdf5\n",
            "Epoch 2/10\n",
            "860/860 [==============================] - 65s 76ms/step - loss: 0.4138 - accuracy: 0.8503 - val_loss: 0.3190 - val_accuracy: 0.8890\n",
            "\n",
            "Epoch 00002: val_loss improved from 0.36748 to 0.31895, saving model to model.weights.best.hdf5\n",
            "Epoch 3/10\n",
            "860/860 [==============================] - 65s 76ms/step - loss: 0.3581 - accuracy: 0.8694 - val_loss: 0.2884 - val_accuracy: 0.8958\n",
            "\n",
            "Epoch 00003: val_loss improved from 0.31895 to 0.28839, saving model to model.weights.best.hdf5\n",
            "Epoch 4/10\n",
            "860/860 [==============================] - 66s 76ms/step - loss: 0.3307 - accuracy: 0.8792 - val_loss: 0.2841 - val_accuracy: 0.8966\n",
            "\n",
            "Epoch 00004: val_loss improved from 0.28839 to 0.28409, saving model to model.weights.best.hdf5\n",
            "Epoch 5/10\n",
            "860/860 [==============================] - 66s 77ms/step - loss: 0.3195 - accuracy: 0.8836 - val_loss: 0.2654 - val_accuracy: 0.9026\n",
            "\n",
            "Epoch 00005: val_loss improved from 0.28409 to 0.26541, saving model to model.weights.best.hdf5\n",
            "Epoch 6/10\n",
            "860/860 [==============================] - 66s 77ms/step - loss: 0.2970 - accuracy: 0.8910 - val_loss: 0.2459 - val_accuracy: 0.9074\n",
            "\n",
            "Epoch 00006: val_loss improved from 0.26541 to 0.24587, saving model to model.weights.best.hdf5\n",
            "Epoch 7/10\n",
            "860/860 [==============================] - 66s 76ms/step - loss: 0.2903 - accuracy: 0.8920 - val_loss: 0.2419 - val_accuracy: 0.9112\n",
            "\n",
            "Epoch 00007: val_loss improved from 0.24587 to 0.24191, saving model to model.weights.best.hdf5\n",
            "Epoch 8/10\n",
            "860/860 [==============================] - 66s 76ms/step - loss: 0.2759 - accuracy: 0.8972 - val_loss: 0.2425 - val_accuracy: 0.9090\n",
            "\n",
            "Epoch 00008: val_loss did not improve from 0.24191\n",
            "Epoch 9/10\n",
            "860/860 [==============================] - 66s 76ms/step - loss: 0.2723 - accuracy: 0.9003 - val_loss: 0.2377 - val_accuracy: 0.9094\n",
            "\n",
            "Epoch 00009: val_loss improved from 0.24191 to 0.23769, saving model to model.weights.best.hdf5\n",
            "Epoch 10/10\n",
            "860/860 [==============================] - 66s 77ms/step - loss: 0.2645 - accuracy: 0.9009 - val_loss: 0.2242 - val_accuracy: 0.9146\n",
            "\n",
            "Epoch 00010: val_loss improved from 0.23769 to 0.22418, saving model to model.weights.best.hdf5\n"
          ],
          "name": "stdout"
        },
        {
          "output_type": "execute_result",
          "data": {
            "text/plain": [
              "<tensorflow.python.keras.callbacks.History at 0x7f1c6159c4d0>"
            ]
          },
          "metadata": {
            "tags": []
          },
          "execution_count": 68
        }
      ]
    },
    {
      "cell_type": "code",
      "metadata": {
        "id": "j12rBVCmy_u6"
      },
      "source": [
        "\r\n",
        "# Load the weights with the best validation accuracy\r\n",
        "model.load_weights('model.weights.best.hdf5')"
      ],
      "execution_count": null,
      "outputs": []
    },
    {
      "cell_type": "code",
      "metadata": {
        "colab": {
          "base_uri": "https://localhost:8080/"
        },
        "id": "GstLjZRFzA0x",
        "outputId": "024e7edb-665f-4e90-8623-01e4319eb81e"
      },
      "source": [
        "# Evaluate the model on test set\r\n",
        "score = model.evaluate(x_test, y_test, verbose=0)\r\n",
        "\r\n",
        "# Print test accuracy\r\n",
        "print('\\n', 'Test accuracy:', score[1])"
      ],
      "execution_count": null,
      "outputs": [
        {
          "output_type": "stream",
          "text": [
            "\n",
            " Test accuracy: 0.909500002861023\n"
          ],
          "name": "stdout"
        }
      ]
    },
    {
      "cell_type": "markdown",
      "metadata": {
        "id": "_w4FZveyphLy"
      },
      "source": [
        ""
      ]
    },
    {
      "cell_type": "code",
      "metadata": {
        "colab": {
          "base_uri": "https://localhost:8080/"
        },
        "id": "pQ-w7v3opiE_",
        "outputId": "2df19122-d4e4-49ee-f44a-6fc550f68675"
      },
      "source": [
        "# Baseline Model with an extra layer\r\n",
        "#Model parameters[(62,2),(32,2),(0.3,0,0.3),(64,2),(32,2),(0.3,0.3)]\r\n",
        "model = tf.keras.Sequential()\r\n",
        "\r\n",
        "# Must define the input shape in the first layer of the neural network\r\n",
        "model.add(tf.keras.layers.Conv2D(filters=64, kernel_size=2, padding='same', activation='relu', input_shape=(28,28,1))) \r\n",
        "model.add(tf.keras.layers.MaxPooling2D(pool_size=2))\r\n",
        "model.add(tf.keras.layers.Dropout(0.3))\r\n",
        "\r\n",
        "model.add(tf.keras.layers.Conv2D(filters=32, kernel_size=2, padding='same', activation='relu'))\r\n",
        "model.add(tf.keras.layers.MaxPooling2D(pool_size=2))\r\n",
        "model.add(tf.keras.layers.Dropout(0.3))\r\n",
        "\r\n",
        "model.add(tf.keras.layers.Conv2D(filters=64, kernel_size=2, padding='same', activation='relu', input_shape=(28,28,1))) \r\n",
        "model.add(tf.keras.layers.MaxPooling2D(pool_size=2))\r\n",
        "model.add(tf.keras.layers.Dropout(0.3))\r\n",
        "\r\n",
        "model.add(tf.keras.layers.Conv2D(filters=32, kernel_size=2, padding='same', activation='relu'))\r\n",
        "model.add(tf.keras.layers.MaxPooling2D(pool_size=2))\r\n",
        "model.add(tf.keras.layers.Dropout(0.3))\r\n",
        "\r\n",
        "model.add(tf.keras.layers.Flatten())\r\n",
        "model.add(tf.keras.layers.Dense(256, activation='relu'))\r\n",
        "model.add(tf.keras.layers.Dropout(0.5))\r\n",
        "model.add(tf.keras.layers.Dense(10, activation='softmax'))\r\n",
        "\r\n",
        "# Take a look at the model summary\r\n",
        "model.summary()"
      ],
      "execution_count": 44,
      "outputs": [
        {
          "output_type": "stream",
          "text": [
            "Model: \"sequential_10\"\n",
            "_________________________________________________________________\n",
            "Layer (type)                 Output Shape              Param #   \n",
            "=================================================================\n",
            "conv2d_34 (Conv2D)           (None, 28, 28, 64)        320       \n",
            "_________________________________________________________________\n",
            "max_pooling2d_34 (MaxPooling (None, 14, 14, 64)        0         \n",
            "_________________________________________________________________\n",
            "dropout_44 (Dropout)         (None, 14, 14, 64)        0         \n",
            "_________________________________________________________________\n",
            "conv2d_35 (Conv2D)           (None, 14, 14, 32)        8224      \n",
            "_________________________________________________________________\n",
            "max_pooling2d_35 (MaxPooling (None, 7, 7, 32)          0         \n",
            "_________________________________________________________________\n",
            "dropout_45 (Dropout)         (None, 7, 7, 32)          0         \n",
            "_________________________________________________________________\n",
            "conv2d_36 (Conv2D)           (None, 7, 7, 64)          8256      \n",
            "_________________________________________________________________\n",
            "max_pooling2d_36 (MaxPooling (None, 3, 3, 64)          0         \n",
            "_________________________________________________________________\n",
            "dropout_46 (Dropout)         (None, 3, 3, 64)          0         \n",
            "_________________________________________________________________\n",
            "conv2d_37 (Conv2D)           (None, 3, 3, 32)          8224      \n",
            "_________________________________________________________________\n",
            "max_pooling2d_37 (MaxPooling (None, 1, 1, 32)          0         \n",
            "_________________________________________________________________\n",
            "dropout_47 (Dropout)         (None, 1, 1, 32)          0         \n",
            "_________________________________________________________________\n",
            "flatten_10 (Flatten)         (None, 32)                0         \n",
            "_________________________________________________________________\n",
            "dense_20 (Dense)             (None, 256)               8448      \n",
            "_________________________________________________________________\n",
            "dropout_48 (Dropout)         (None, 256)               0         \n",
            "_________________________________________________________________\n",
            "dense_21 (Dense)             (None, 10)                2570      \n",
            "=================================================================\n",
            "Total params: 36,042\n",
            "Trainable params: 36,042\n",
            "Non-trainable params: 0\n",
            "_________________________________________________________________\n"
          ],
          "name": "stdout"
        }
      ]
    },
    {
      "cell_type": "code",
      "metadata": {
        "id": "sY7oa7fapjT3"
      },
      "source": [
        "model.compile(loss='categorical_crossentropy',\r\n",
        "             optimizer='adam',\r\n",
        "             metrics=['accuracy'])"
      ],
      "execution_count": 45,
      "outputs": []
    },
    {
      "cell_type": "code",
      "metadata": {
        "colab": {
          "base_uri": "https://localhost:8080/"
        },
        "id": "Aqk-YafzpqC8",
        "outputId": "7158f9bf-4309-4fa4-bac7-41f9ca7b3ec8"
      },
      "source": [
        "from keras.callbacks import ModelCheckpoint\r\n",
        "\r\n",
        "checkpointer = ModelCheckpoint(filepath='model.weights.best.hdf5', verbose = 1, save_best_only=True)\r\n",
        "model.fit(x_train,\r\n",
        "         y_train,\r\n",
        "         batch_size=64,\r\n",
        "         epochs=10,\r\n",
        "         validation_data=(x_valid, y_valid),\r\n",
        "         callbacks=[checkpointer])"
      ],
      "execution_count": 46,
      "outputs": [
        {
          "output_type": "stream",
          "text": [
            "Epoch 1/10\n",
            "860/860 [==============================] - 61s 70ms/step - loss: 1.5033 - accuracy: 0.4140 - val_loss: 0.6198 - val_accuracy: 0.7662\n",
            "\n",
            "Epoch 00001: val_loss improved from inf to 0.61984, saving model to model.weights.best.hdf5\n",
            "Epoch 2/10\n",
            "860/860 [==============================] - 60s 70ms/step - loss: 0.7408 - accuracy: 0.7209 - val_loss: 0.5182 - val_accuracy: 0.8124\n",
            "\n",
            "Epoch 00002: val_loss improved from 0.61984 to 0.51824, saving model to model.weights.best.hdf5\n",
            "Epoch 3/10\n",
            "860/860 [==============================] - 60s 70ms/step - loss: 0.6500 - accuracy: 0.7568 - val_loss: 0.4790 - val_accuracy: 0.8326\n",
            "\n",
            "Epoch 00003: val_loss improved from 0.51824 to 0.47902, saving model to model.weights.best.hdf5\n",
            "Epoch 4/10\n",
            "860/860 [==============================] - 60s 70ms/step - loss: 0.6069 - accuracy: 0.7750 - val_loss: 0.4454 - val_accuracy: 0.8428\n",
            "\n",
            "Epoch 00004: val_loss improved from 0.47902 to 0.44542, saving model to model.weights.best.hdf5\n",
            "Epoch 5/10\n",
            "860/860 [==============================] - 60s 70ms/step - loss: 0.5738 - accuracy: 0.7891 - val_loss: 0.4059 - val_accuracy: 0.8504\n",
            "\n",
            "Epoch 00005: val_loss improved from 0.44542 to 0.40593, saving model to model.weights.best.hdf5\n",
            "Epoch 6/10\n",
            "860/860 [==============================] - 60s 70ms/step - loss: 0.5473 - accuracy: 0.8012 - val_loss: 0.4127 - val_accuracy: 0.8558\n",
            "\n",
            "Epoch 00006: val_loss did not improve from 0.40593\n",
            "Epoch 7/10\n",
            "860/860 [==============================] - 60s 70ms/step - loss: 0.5244 - accuracy: 0.8075 - val_loss: 0.3913 - val_accuracy: 0.8540\n",
            "\n",
            "Epoch 00007: val_loss improved from 0.40593 to 0.39127, saving model to model.weights.best.hdf5\n",
            "Epoch 8/10\n",
            "860/860 [==============================] - 60s 70ms/step - loss: 0.5067 - accuracy: 0.8154 - val_loss: 0.3631 - val_accuracy: 0.8728\n",
            "\n",
            "Epoch 00008: val_loss improved from 0.39127 to 0.36310, saving model to model.weights.best.hdf5\n",
            "Epoch 9/10\n",
            "860/860 [==============================] - 60s 70ms/step - loss: 0.4913 - accuracy: 0.8211 - val_loss: 0.3559 - val_accuracy: 0.8738\n",
            "\n",
            "Epoch 00009: val_loss improved from 0.36310 to 0.35585, saving model to model.weights.best.hdf5\n",
            "Epoch 10/10\n",
            "860/860 [==============================] - 60s 70ms/step - loss: 0.4800 - accuracy: 0.8267 - val_loss: 0.3606 - val_accuracy: 0.8748\n",
            "\n",
            "Epoch 00010: val_loss did not improve from 0.35585\n"
          ],
          "name": "stdout"
        },
        {
          "output_type": "execute_result",
          "data": {
            "text/plain": [
              "<tensorflow.python.keras.callbacks.History at 0x7f0b11ab5e10>"
            ]
          },
          "metadata": {
            "tags": []
          },
          "execution_count": 46
        }
      ]
    },
    {
      "cell_type": "code",
      "metadata": {
        "id": "6WQrpZRrpvJR"
      },
      "source": [
        "# Load the weights with the best validation accuracy\r\n",
        "model.load_weights('model.weights.best.hdf5')"
      ],
      "execution_count": 47,
      "outputs": []
    },
    {
      "cell_type": "code",
      "metadata": {
        "colab": {
          "base_uri": "https://localhost:8080/"
        },
        "id": "7d6fPmoaZNMM",
        "outputId": "896ba8ab-5361-498a-8e83-cb2137aa068c"
      },
      "source": [
        "# Evaluate the model on test set\r\n",
        "score = model.evaluate(x_test, y_test, verbose=0)\r\n",
        "\r\n",
        "# Print test accuracy\r\n",
        "print('\\n', 'Test accuracy:', score[1])"
      ],
      "execution_count": 48,
      "outputs": [
        {
          "output_type": "stream",
          "text": [
            "\n",
            " Test accuracy: 0.8623999953269958\n"
          ],
          "name": "stdout"
        }
      ]
    },
    {
      "cell_type": "code",
      "metadata": {
        "colab": {
          "base_uri": "https://localhost:8080/"
        },
        "id": "HfcK7PdBJnRx",
        "outputId": "c4c8dd5f-4a01-4beb-f0ea-e1414d44139f"
      },
      "source": [
        "#Group 1 First Experiment\r\n",
        "# Model Parameters[(32,2),(16,2),(0.3,0.3)]\r\n",
        "model = tf.keras.Sequential()\r\n",
        "\r\n",
        "# Must define the input shape in the first layer of the neural network\r\n",
        "model.add(tf.keras.layers.Conv2D(filters=32, kernel_size=2, padding='same', activation='relu', input_shape=(28,28,1))) \r\n",
        "model.add(tf.keras.layers.MaxPooling2D(pool_size=2))\r\n",
        "model.add(tf.keras.layers.Dropout(0.3))\r\n",
        "\r\n",
        "model.add(tf.keras.layers.Conv2D(filters=16, kernel_size=2, padding='same', activation='relu'))\r\n",
        "model.add(tf.keras.layers.MaxPooling2D(pool_size=2))\r\n",
        "model.add(tf.keras.layers.Dropout(0.3))\r\n",
        "\r\n",
        "\r\n",
        "model.add(tf.keras.layers.Flatten())\r\n",
        "model.add(tf.keras.layers.Dense(256, activation='relu'))\r\n",
        "model.add(tf.keras.layers.Dropout(0.5))\r\n",
        "model.add(tf.keras.layers.Dense(10, activation='softmax'))\r\n",
        "\r\n",
        "# Take a look at the model summary\r\n",
        "model.summary()"
      ],
      "execution_count": 19,
      "outputs": [
        {
          "output_type": "stream",
          "text": [
            "Model: \"sequential_4\"\n",
            "_________________________________________________________________\n",
            "Layer (type)                 Output Shape              Param #   \n",
            "=================================================================\n",
            "conv2d_12 (Conv2D)           (None, 28, 28, 32)        160       \n",
            "_________________________________________________________________\n",
            "max_pooling2d_12 (MaxPooling (None, 14, 14, 32)        0         \n",
            "_________________________________________________________________\n",
            "dropout_16 (Dropout)         (None, 14, 14, 32)        0         \n",
            "_________________________________________________________________\n",
            "conv2d_13 (Conv2D)           (None, 14, 14, 16)        2064      \n",
            "_________________________________________________________________\n",
            "max_pooling2d_13 (MaxPooling (None, 7, 7, 16)          0         \n",
            "_________________________________________________________________\n",
            "dropout_17 (Dropout)         (None, 7, 7, 16)          0         \n",
            "_________________________________________________________________\n",
            "flatten_4 (Flatten)          (None, 784)               0         \n",
            "_________________________________________________________________\n",
            "dense_8 (Dense)              (None, 256)               200960    \n",
            "_________________________________________________________________\n",
            "dropout_18 (Dropout)         (None, 256)               0         \n",
            "_________________________________________________________________\n",
            "dense_9 (Dense)              (None, 10)                2570      \n",
            "=================================================================\n",
            "Total params: 205,754\n",
            "Trainable params: 205,754\n",
            "Non-trainable params: 0\n",
            "_________________________________________________________________\n"
          ],
          "name": "stdout"
        }
      ]
    },
    {
      "cell_type": "code",
      "metadata": {
        "id": "tHe7C_mSzF9X"
      },
      "source": [
        "model.compile(loss='categorical_crossentropy',\r\n",
        "             optimizer='adam',\r\n",
        "             metrics=['accuracy'])"
      ],
      "execution_count": null,
      "outputs": []
    },
    {
      "cell_type": "code",
      "metadata": {
        "colab": {
          "base_uri": "https://localhost:8080/"
        },
        "id": "Yv_A-ReczJdP",
        "outputId": "751bb9b7-f1e3-4bd3-e7f7-e8d70dbda144"
      },
      "source": [
        "from keras.callbacks import ModelCheckpoint\r\n",
        "\r\n",
        "checkpointer = ModelCheckpoint(filepath='model.weights.best.hdf5', verbose = 1, save_best_only=True)\r\n",
        "model.fit(x_train,\r\n",
        "         y_train,\r\n",
        "         batch_size=64,\r\n",
        "         epochs=10,\r\n",
        "         validation_data=(x_valid, y_valid),\r\n",
        "         callbacks=[checkpointer])"
      ],
      "execution_count": null,
      "outputs": [
        {
          "output_type": "stream",
          "text": [
            "Epoch 1/10\n",
            "860/860 [==============================] - 37s 43ms/step - loss: 0.9148 - accuracy: 0.6575 - val_loss: 0.4175 - val_accuracy: 0.8544\n",
            "\n",
            "Epoch 00001: val_loss improved from inf to 0.41753, saving model to model.weights.best.hdf5\n",
            "Epoch 2/10\n",
            "860/860 [==============================] - 37s 42ms/step - loss: 0.4766 - accuracy: 0.8246 - val_loss: 0.3703 - val_accuracy: 0.8708\n",
            "\n",
            "Epoch 00002: val_loss improved from 0.41753 to 0.37033, saving model to model.weights.best.hdf5\n",
            "Epoch 3/10\n",
            "860/860 [==============================] - 37s 42ms/step - loss: 0.4362 - accuracy: 0.8412 - val_loss: 0.3460 - val_accuracy: 0.8790\n",
            "\n",
            "Epoch 00003: val_loss improved from 0.37033 to 0.34596, saving model to model.weights.best.hdf5\n",
            "Epoch 4/10\n",
            "860/860 [==============================] - 37s 43ms/step - loss: 0.3978 - accuracy: 0.8546 - val_loss: 0.3172 - val_accuracy: 0.8858\n",
            "\n",
            "Epoch 00004: val_loss improved from 0.34596 to 0.31716, saving model to model.weights.best.hdf5\n",
            "Epoch 5/10\n",
            "860/860 [==============================] - 36s 42ms/step - loss: 0.3787 - accuracy: 0.8609 - val_loss: 0.2922 - val_accuracy: 0.8952\n",
            "\n",
            "Epoch 00005: val_loss improved from 0.31716 to 0.29215, saving model to model.weights.best.hdf5\n",
            "Epoch 6/10\n",
            "860/860 [==============================] - 36s 42ms/step - loss: 0.3598 - accuracy: 0.8686 - val_loss: 0.2829 - val_accuracy: 0.8962\n",
            "\n",
            "Epoch 00006: val_loss improved from 0.29215 to 0.28291, saving model to model.weights.best.hdf5\n",
            "Epoch 7/10\n",
            "860/860 [==============================] - 36s 42ms/step - loss: 0.3417 - accuracy: 0.8740 - val_loss: 0.2767 - val_accuracy: 0.8964\n",
            "\n",
            "Epoch 00007: val_loss improved from 0.28291 to 0.27672, saving model to model.weights.best.hdf5\n",
            "Epoch 8/10\n",
            "860/860 [==============================] - 36s 42ms/step - loss: 0.3312 - accuracy: 0.8773 - val_loss: 0.2731 - val_accuracy: 0.9034\n",
            "\n",
            "Epoch 00008: val_loss improved from 0.27672 to 0.27306, saving model to model.weights.best.hdf5\n",
            "Epoch 9/10\n",
            "860/860 [==============================] - 36s 42ms/step - loss: 0.3199 - accuracy: 0.8829 - val_loss: 0.2622 - val_accuracy: 0.9084\n",
            "\n",
            "Epoch 00009: val_loss improved from 0.27306 to 0.26219, saving model to model.weights.best.hdf5\n",
            "Epoch 10/10\n",
            "860/860 [==============================] - 37s 43ms/step - loss: 0.3159 - accuracy: 0.8827 - val_loss: 0.2588 - val_accuracy: 0.9076\n",
            "\n",
            "Epoch 00010: val_loss improved from 0.26219 to 0.25881, saving model to model.weights.best.hdf5\n"
          ],
          "name": "stdout"
        },
        {
          "output_type": "execute_result",
          "data": {
            "text/plain": [
              "<tensorflow.python.keras.callbacks.History at 0x7f1c61bc2850>"
            ]
          },
          "metadata": {
            "tags": []
          },
          "execution_count": 73
        }
      ]
    },
    {
      "cell_type": "code",
      "metadata": {
        "id": "yMAm7QZpzMzq"
      },
      "source": [
        "\r\n",
        "# Load the weights with the best validation accuracy\r\n",
        "model.load_weights('model.weights.best.hdf5')"
      ],
      "execution_count": null,
      "outputs": []
    },
    {
      "cell_type": "code",
      "metadata": {
        "colab": {
          "base_uri": "https://localhost:8080/"
        },
        "id": "OCs2baT0zPl-",
        "outputId": "88924efa-ee00-4cd6-b2b1-ad5ddbdc6377"
      },
      "source": [
        "# Evaluate the model on test set\r\n",
        "score = model.evaluate(x_test, y_test, verbose=0)\r\n",
        "\r\n",
        "# Print test accuracy\r\n",
        "print('\\n', 'Test accuracy:', score[1])"
      ],
      "execution_count": null,
      "outputs": [
        {
          "output_type": "stream",
          "text": [
            "\n",
            " Test accuracy: 0.8729000091552734\n"
          ],
          "name": "stdout"
        }
      ]
    },
    {
      "cell_type": "code",
      "metadata": {
        "colab": {
          "base_uri": "https://localhost:8080/"
        },
        "id": "uHprM4EHNcWI",
        "outputId": "be58414a-121c-4592-a4d8-c9c27056d4d3"
      },
      "source": [
        "#Group 1 Second Experiment\r\n",
        "# Model Parameters[(128,2),(64,2),(0.3,0.3)]\r\n",
        "model = tf.keras.Sequential()\r\n",
        "\r\n",
        "# Must define the input shape in the first layer of the neural network\r\n",
        "model.add(tf.keras.layers.Conv2D(filters=128, kernel_size=2, padding='same', activation='relu', input_shape=(28,28,1))) \r\n",
        "model.add(tf.keras.layers.MaxPooling2D(pool_size=2))\r\n",
        "model.add(tf.keras.layers.Dropout(0.3))\r\n",
        "\r\n",
        "model.add(tf.keras.layers.Conv2D(filters=64, kernel_size=2, padding='same', activation='relu'))\r\n",
        "model.add(tf.keras.layers.MaxPooling2D(pool_size=2))\r\n",
        "model.add(tf.keras.layers.Dropout(0.3))\r\n",
        "\r\n",
        "\r\n",
        "model.add(tf.keras.layers.Flatten())\r\n",
        "model.add(tf.keras.layers.Dense(256, activation='relu'))\r\n",
        "model.add(tf.keras.layers.Dropout(0.5))\r\n",
        "model.add(tf.keras.layers.Dense(10, activation='softmax'))\r\n",
        "\r\n",
        "# Take a look at the model summary\r\n",
        "model.summary()"
      ],
      "execution_count": null,
      "outputs": [
        {
          "output_type": "stream",
          "text": [
            "Model: \"sequential_12\"\n",
            "_________________________________________________________________\n",
            "Layer (type)                 Output Shape              Param #   \n",
            "=================================================================\n",
            "conv2d_24 (Conv2D)           (None, 28, 28, 128)       640       \n",
            "_________________________________________________________________\n",
            "max_pooling2d_24 (MaxPooling (None, 14, 14, 128)       0         \n",
            "_________________________________________________________________\n",
            "dropout_36 (Dropout)         (None, 14, 14, 128)       0         \n",
            "_________________________________________________________________\n",
            "conv2d_25 (Conv2D)           (None, 14, 14, 64)        32832     \n",
            "_________________________________________________________________\n",
            "max_pooling2d_25 (MaxPooling (None, 7, 7, 64)          0         \n",
            "_________________________________________________________________\n",
            "dropout_37 (Dropout)         (None, 7, 7, 64)          0         \n",
            "_________________________________________________________________\n",
            "flatten_12 (Flatten)         (None, 3136)              0         \n",
            "_________________________________________________________________\n",
            "dense_24 (Dense)             (None, 256)               803072    \n",
            "_________________________________________________________________\n",
            "dropout_38 (Dropout)         (None, 256)               0         \n",
            "_________________________________________________________________\n",
            "dense_25 (Dense)             (None, 10)                2570      \n",
            "=================================================================\n",
            "Total params: 839,114\n",
            "Trainable params: 839,114\n",
            "Non-trainable params: 0\n",
            "_________________________________________________________________\n"
          ],
          "name": "stdout"
        }
      ]
    },
    {
      "cell_type": "code",
      "metadata": {
        "id": "VDcD2PYpzTuz"
      },
      "source": [
        "model.compile(loss='categorical_crossentropy',\r\n",
        "             optimizer='adam',\r\n",
        "             metrics=['accuracy'])"
      ],
      "execution_count": null,
      "outputs": []
    },
    {
      "cell_type": "code",
      "metadata": {
        "colab": {
          "base_uri": "https://localhost:8080/"
        },
        "id": "VYXm-BtQzXUc",
        "outputId": "20534060-fd55-4097-ad53-8b478d2a2790"
      },
      "source": [
        "from keras.callbacks import ModelCheckpoint\r\n",
        "\r\n",
        "checkpointer = ModelCheckpoint(filepath='model.weights.best.hdf5', verbose = 1, save_best_only=True)\r\n",
        "model.fit(x_train,\r\n",
        "         y_train,\r\n",
        "         batch_size=64,\r\n",
        "         epochs=10,\r\n",
        "         validation_data=(x_valid, y_valid),\r\n",
        "         callbacks=[checkpointer])"
      ],
      "execution_count": null,
      "outputs": [
        {
          "output_type": "stream",
          "text": [
            "Epoch 1/10\n",
            "860/860 [==============================] - 144s 167ms/step - loss: 0.7524 - accuracy: 0.7277 - val_loss: 0.3434 - val_accuracy: 0.8794\n",
            "\n",
            "Epoch 00001: val_loss improved from inf to 0.34343, saving model to model.weights.best.hdf5\n",
            "Epoch 2/10\n",
            "860/860 [==============================] - 142s 165ms/step - loss: 0.3972 - accuracy: 0.8550 - val_loss: 0.3030 - val_accuracy: 0.8886\n",
            "\n",
            "Epoch 00002: val_loss improved from 0.34343 to 0.30301, saving model to model.weights.best.hdf5\n",
            "Epoch 3/10\n",
            "860/860 [==============================] - 142s 165ms/step - loss: 0.3414 - accuracy: 0.8766 - val_loss: 0.2738 - val_accuracy: 0.8986\n",
            "\n",
            "Epoch 00003: val_loss improved from 0.30301 to 0.27379, saving model to model.weights.best.hdf5\n",
            "Epoch 4/10\n",
            "860/860 [==============================] - 139s 162ms/step - loss: 0.3145 - accuracy: 0.8859 - val_loss: 0.2526 - val_accuracy: 0.9078\n",
            "\n",
            "Epoch 00004: val_loss improved from 0.27379 to 0.25264, saving model to model.weights.best.hdf5\n",
            "Epoch 5/10\n",
            "860/860 [==============================] - 139s 161ms/step - loss: 0.2887 - accuracy: 0.8928 - val_loss: 0.2445 - val_accuracy: 0.9082\n",
            "\n",
            "Epoch 00005: val_loss improved from 0.25264 to 0.24450, saving model to model.weights.best.hdf5\n",
            "Epoch 6/10\n",
            "860/860 [==============================] - 139s 162ms/step - loss: 0.2803 - accuracy: 0.8955 - val_loss: 0.2359 - val_accuracy: 0.9112\n",
            "\n",
            "Epoch 00006: val_loss improved from 0.24450 to 0.23594, saving model to model.weights.best.hdf5\n",
            "Epoch 7/10\n",
            "860/860 [==============================] - 139s 162ms/step - loss: 0.2587 - accuracy: 0.9031 - val_loss: 0.2261 - val_accuracy: 0.9166\n",
            "\n",
            "Epoch 00007: val_loss improved from 0.23594 to 0.22607, saving model to model.weights.best.hdf5\n",
            "Epoch 8/10\n",
            "860/860 [==============================] - 140s 162ms/step - loss: 0.2487 - accuracy: 0.9090 - val_loss: 0.2201 - val_accuracy: 0.9196\n",
            "\n",
            "Epoch 00008: val_loss improved from 0.22607 to 0.22005, saving model to model.weights.best.hdf5\n",
            "Epoch 9/10\n",
            "860/860 [==============================] - 139s 161ms/step - loss: 0.2326 - accuracy: 0.9137 - val_loss: 0.2209 - val_accuracy: 0.9180\n",
            "\n",
            "Epoch 00009: val_loss did not improve from 0.22005\n",
            "Epoch 10/10\n",
            "860/860 [==============================] - 139s 162ms/step - loss: 0.2327 - accuracy: 0.9130 - val_loss: 0.2088 - val_accuracy: 0.9228\n",
            "\n",
            "Epoch 00010: val_loss improved from 0.22005 to 0.20884, saving model to model.weights.best.hdf5\n"
          ],
          "name": "stdout"
        },
        {
          "output_type": "execute_result",
          "data": {
            "text/plain": [
              "<tensorflow.python.keras.callbacks.History at 0x7f1c61966e10>"
            ]
          },
          "metadata": {
            "tags": []
          },
          "execution_count": 78
        }
      ]
    },
    {
      "cell_type": "code",
      "metadata": {
        "id": "Fgeu7iRCzcfm"
      },
      "source": [
        "# Load the weights with the best validation accuracy\r\n",
        "model.load_weights('model.weights.best.hdf5')"
      ],
      "execution_count": null,
      "outputs": []
    },
    {
      "cell_type": "code",
      "metadata": {
        "colab": {
          "base_uri": "https://localhost:8080/"
        },
        "id": "TkQl7Tm_zgUR",
        "outputId": "24caee23-7730-4d22-b3aa-ef3d8b1e7a73"
      },
      "source": [
        "\r\n",
        "# Evaluate the model on test set\r\n",
        "score = model.evaluate(x_test, y_test, verbose=0)\r\n",
        "\r\n",
        "# Print test accuracy\r\n",
        "print('\\n', 'Test accuracy:', score[1])"
      ],
      "execution_count": null,
      "outputs": [
        {
          "output_type": "stream",
          "text": [
            "\n",
            " Test accuracy: 0.9160000085830688\n"
          ],
          "name": "stdout"
        }
      ]
    },
    {
      "cell_type": "code",
      "metadata": {
        "colab": {
          "base_uri": "https://localhost:8080/"
        },
        "id": "eWBByub9UOQp",
        "outputId": "31b22d49-0267-4887-c59c-cb579d0a50d6"
      },
      "source": [
        "#Group 1 THird Experiment\r\n",
        "# Model Parameters[(32,5),(16,5),(0.2,0.2)]\r\n",
        "model = tf.keras.Sequential()\r\n",
        "\r\n",
        "# Must define the input shape in the first layer of the neural network\r\n",
        "model.add(tf.keras.layers.Conv2D(filters=32, kernel_size=5, padding='same', activation='relu', input_shape=(28,28,1))) \r\n",
        "model.add(tf.keras.layers.MaxPooling2D(pool_size=2))\r\n",
        "model.add(tf.keras.layers.Dropout(0.2))\r\n",
        "\r\n",
        "model.add(tf.keras.layers.Conv2D(filters=16, kernel_size=5, padding='same', activation='relu'))\r\n",
        "model.add(tf.keras.layers.MaxPooling2D(pool_size=2))\r\n",
        "model.add(tf.keras.layers.Dropout(0.2))\r\n",
        "\r\n",
        "\r\n",
        "model.add(tf.keras.layers.Flatten())\r\n",
        "model.add(tf.keras.layers.Dense(256, activation='relu'))\r\n",
        "model.add(tf.keras.layers.Dropout(0.5))\r\n",
        "model.add(tf.keras.layers.Dense(10, activation='softmax'))\r\n",
        "\r\n",
        "# Take a look at the model summary\r\n",
        "model.summary()"
      ],
      "execution_count": null,
      "outputs": [
        {
          "output_type": "stream",
          "text": [
            "Model: \"sequential_13\"\n",
            "_________________________________________________________________\n",
            "Layer (type)                 Output Shape              Param #   \n",
            "=================================================================\n",
            "conv2d_26 (Conv2D)           (None, 28, 28, 32)        832       \n",
            "_________________________________________________________________\n",
            "max_pooling2d_26 (MaxPooling (None, 14, 14, 32)        0         \n",
            "_________________________________________________________________\n",
            "dropout_39 (Dropout)         (None, 14, 14, 32)        0         \n",
            "_________________________________________________________________\n",
            "conv2d_27 (Conv2D)           (None, 14, 14, 16)        12816     \n",
            "_________________________________________________________________\n",
            "max_pooling2d_27 (MaxPooling (None, 7, 7, 16)          0         \n",
            "_________________________________________________________________\n",
            "dropout_40 (Dropout)         (None, 7, 7, 16)          0         \n",
            "_________________________________________________________________\n",
            "flatten_13 (Flatten)         (None, 784)               0         \n",
            "_________________________________________________________________\n",
            "dense_26 (Dense)             (None, 256)               200960    \n",
            "_________________________________________________________________\n",
            "dropout_41 (Dropout)         (None, 256)               0         \n",
            "_________________________________________________________________\n",
            "dense_27 (Dense)             (None, 10)                2570      \n",
            "=================================================================\n",
            "Total params: 217,178\n",
            "Trainable params: 217,178\n",
            "Non-trainable params: 0\n",
            "_________________________________________________________________\n"
          ],
          "name": "stdout"
        }
      ]
    },
    {
      "cell_type": "code",
      "metadata": {
        "id": "QtnwAOpDzixG"
      },
      "source": [
        "model.compile(loss='categorical_crossentropy',\r\n",
        "             optimizer='adam',\r\n",
        "             metrics=['accuracy'])"
      ],
      "execution_count": null,
      "outputs": []
    },
    {
      "cell_type": "code",
      "metadata": {
        "colab": {
          "base_uri": "https://localhost:8080/"
        },
        "id": "Y7OQ5SRzzsnN",
        "outputId": "a97cb39f-31d7-445d-a7b9-806ee1e726dd"
      },
      "source": [
        "from keras.callbacks import ModelCheckpoint\r\n",
        "\r\n",
        "checkpointer = ModelCheckpoint(filepath='model.weights.best.hdf5', verbose = 1, save_best_only=True)\r\n",
        "model.fit(x_train,\r\n",
        "         y_train,\r\n",
        "         batch_size=64,\r\n",
        "         epochs=10,\r\n",
        "         validation_data=(x_valid, y_valid),\r\n",
        "         callbacks=[checkpointer])"
      ],
      "execution_count": null,
      "outputs": [
        {
          "output_type": "stream",
          "text": [
            "Epoch 1/10\n",
            "860/860 [==============================] - 87s 101ms/step - loss: 0.8370 - accuracy: 0.6926 - val_loss: 0.3448 - val_accuracy: 0.8794\n",
            "\n",
            "Epoch 00001: val_loss improved from inf to 0.34482, saving model to model.weights.best.hdf5\n",
            "Epoch 2/10\n",
            "860/860 [==============================] - 86s 100ms/step - loss: 0.3959 - accuracy: 0.8544 - val_loss: 0.2999 - val_accuracy: 0.8892\n",
            "\n",
            "Epoch 00002: val_loss improved from 0.34482 to 0.29989, saving model to model.weights.best.hdf5\n",
            "Epoch 3/10\n",
            "860/860 [==============================] - 86s 100ms/step - loss: 0.3505 - accuracy: 0.8722 - val_loss: 0.2759 - val_accuracy: 0.8984\n",
            "\n",
            "Epoch 00003: val_loss improved from 0.29989 to 0.27586, saving model to model.weights.best.hdf5\n",
            "Epoch 4/10\n",
            "860/860 [==============================] - 86s 100ms/step - loss: 0.3204 - accuracy: 0.8822 - val_loss: 0.2631 - val_accuracy: 0.9036\n",
            "\n",
            "Epoch 00004: val_loss improved from 0.27586 to 0.26314, saving model to model.weights.best.hdf5\n",
            "Epoch 5/10\n",
            "860/860 [==============================] - 86s 100ms/step - loss: 0.2967 - accuracy: 0.8905 - val_loss: 0.2482 - val_accuracy: 0.9076\n",
            "\n",
            "Epoch 00005: val_loss improved from 0.26314 to 0.24823, saving model to model.weights.best.hdf5\n",
            "Epoch 6/10\n",
            "860/860 [==============================] - 86s 101ms/step - loss: 0.2844 - accuracy: 0.8952 - val_loss: 0.2465 - val_accuracy: 0.9074\n",
            "\n",
            "Epoch 00006: val_loss improved from 0.24823 to 0.24652, saving model to model.weights.best.hdf5\n",
            "Epoch 7/10\n",
            "860/860 [==============================] - 86s 100ms/step - loss: 0.2726 - accuracy: 0.8991 - val_loss: 0.2336 - val_accuracy: 0.9118\n",
            "\n",
            "Epoch 00007: val_loss improved from 0.24652 to 0.23358, saving model to model.weights.best.hdf5\n",
            "Epoch 8/10\n",
            "860/860 [==============================] - 86s 100ms/step - loss: 0.2618 - accuracy: 0.9011 - val_loss: 0.2290 - val_accuracy: 0.9174\n",
            "\n",
            "Epoch 00008: val_loss improved from 0.23358 to 0.22901, saving model to model.weights.best.hdf5\n",
            "Epoch 9/10\n",
            "860/860 [==============================] - 86s 100ms/step - loss: 0.2560 - accuracy: 0.9021 - val_loss: 0.2269 - val_accuracy: 0.9180\n",
            "\n",
            "Epoch 00009: val_loss improved from 0.22901 to 0.22695, saving model to model.weights.best.hdf5\n",
            "Epoch 10/10\n",
            "860/860 [==============================] - 86s 100ms/step - loss: 0.2462 - accuracy: 0.9070 - val_loss: 0.2294 - val_accuracy: 0.9132\n",
            "\n",
            "Epoch 00010: val_loss did not improve from 0.22695\n"
          ],
          "name": "stdout"
        },
        {
          "output_type": "execute_result",
          "data": {
            "text/plain": [
              "<tensorflow.python.keras.callbacks.History at 0x7f1c617ba690>"
            ]
          },
          "metadata": {
            "tags": []
          },
          "execution_count": 83
        }
      ]
    },
    {
      "cell_type": "code",
      "metadata": {
        "id": "7g4YHMBWztgz"
      },
      "source": [
        "# Load the weights with the best validation accuracy\r\n",
        "model.load_weights('model.weights.best.hdf5')"
      ],
      "execution_count": null,
      "outputs": []
    },
    {
      "cell_type": "code",
      "metadata": {
        "colab": {
          "base_uri": "https://localhost:8080/"
        },
        "id": "XnE3O1YNzxGw",
        "outputId": "069c9508-5af8-4018-a678-98e5828ab4f5"
      },
      "source": [
        "# Evaluate the model on test set\r\n",
        "score = model.evaluate(x_test, y_test, verbose=0)\r\n",
        "\r\n",
        "# Print test accuracy\r\n",
        "print('\\n', 'Test accuracy:', score[1])"
      ],
      "execution_count": null,
      "outputs": [
        {
          "output_type": "stream",
          "text": [
            "\n",
            " Test accuracy: 0.909600019454956\n"
          ],
          "name": "stdout"
        }
      ]
    },
    {
      "cell_type": "code",
      "metadata": {
        "colab": {
          "base_uri": "https://localhost:8080/"
        },
        "id": "TyMx32UJcuhS",
        "outputId": "52f9885b-8e61-49ae-f502-9e5eec3376cd"
      },
      "source": [
        "# Baseline Model\r\n",
        "model = tf.keras.Sequential()\r\n",
        "\r\n",
        "# Must define the input shape in the first layer of the neural network\r\n",
        "model.add(tf.keras.layers.Conv2D(filters=128, kernel_size=3, padding='same', activation='relu', input_shape=(28,28,1))) \r\n",
        "model.add(tf.keras.layers.MaxPooling2D(pool_size=3))\r\n",
        "model.add(tf.keras.layers.Dropout(0.3))\r\n",
        "\r\n",
        "model.add(tf.keras.layers.Conv2D(filters=64, kernel_size=3, padding='same', activation='relu'))\r\n",
        "model.add(tf.keras.layers.MaxPooling2D(pool_size=3))\r\n",
        "model.add(tf.keras.layers.Dropout(0.3))\r\n",
        "\r\n",
        "model.add(tf.keras.layers.Flatten())\r\n",
        "model.add(tf.keras.layers.Dense(256, activation='relu'))\r\n",
        "model.add(tf.keras.layers.Dropout(0.5))\r\n",
        "model.add(tf.keras.layers.Dense(10, activation='softmax'))\r\n",
        "\r\n",
        "# Take a look at the model summary\r\n",
        "model.summary()"
      ],
      "execution_count": null,
      "outputs": [
        {
          "output_type": "stream",
          "text": [
            "Model: \"sequential_14\"\n",
            "_________________________________________________________________\n",
            "Layer (type)                 Output Shape              Param #   \n",
            "=================================================================\n",
            "conv2d_28 (Conv2D)           (None, 28, 28, 128)       1280      \n",
            "_________________________________________________________________\n",
            "max_pooling2d_28 (MaxPooling (None, 9, 9, 128)         0         \n",
            "_________________________________________________________________\n",
            "dropout_42 (Dropout)         (None, 9, 9, 128)         0         \n",
            "_________________________________________________________________\n",
            "conv2d_29 (Conv2D)           (None, 9, 9, 64)          73792     \n",
            "_________________________________________________________________\n",
            "max_pooling2d_29 (MaxPooling (None, 3, 3, 64)          0         \n",
            "_________________________________________________________________\n",
            "dropout_43 (Dropout)         (None, 3, 3, 64)          0         \n",
            "_________________________________________________________________\n",
            "flatten_14 (Flatten)         (None, 576)               0         \n",
            "_________________________________________________________________\n",
            "dense_28 (Dense)             (None, 256)               147712    \n",
            "_________________________________________________________________\n",
            "dropout_44 (Dropout)         (None, 256)               0         \n",
            "_________________________________________________________________\n",
            "dense_29 (Dense)             (None, 10)                2570      \n",
            "=================================================================\n",
            "Total params: 225,354\n",
            "Trainable params: 225,354\n",
            "Non-trainable params: 0\n",
            "_________________________________________________________________\n"
          ],
          "name": "stdout"
        }
      ]
    },
    {
      "cell_type": "code",
      "metadata": {
        "id": "VHGJW-73z3U9"
      },
      "source": [
        "\r\n",
        "model.compile(loss='categorical_crossentropy',\r\n",
        "             optimizer='adam',\r\n",
        "             metrics=['accuracy'])"
      ],
      "execution_count": null,
      "outputs": []
    },
    {
      "cell_type": "code",
      "metadata": {
        "colab": {
          "base_uri": "https://localhost:8080/"
        },
        "id": "jws8UfA3z6sZ",
        "outputId": "d036985c-e90f-435d-9ad8-c6b55c0b14f6"
      },
      "source": [
        "from keras.callbacks import ModelCheckpoint\r\n",
        "\r\n",
        "checkpointer = ModelCheckpoint(filepath='model.weights.best.hdf5', verbose = 1, save_best_only=True)\r\n",
        "model.fit(x_train,\r\n",
        "         y_train,\r\n",
        "         batch_size=64,\r\n",
        "         epochs=10,\r\n",
        "         validation_data=(x_valid, y_valid),\r\n",
        "         callbacks=[checkpointer])"
      ],
      "execution_count": null,
      "outputs": [
        {
          "output_type": "stream",
          "text": [
            "Epoch 1/10\n",
            "860/860 [==============================] - 117s 136ms/step - loss: 0.9629 - accuracy: 0.6426 - val_loss: 0.3707 - val_accuracy: 0.8666\n",
            "\n",
            "Epoch 00001: val_loss improved from inf to 0.37071, saving model to model.weights.best.hdf5\n",
            "Epoch 2/10\n",
            "860/860 [==============================] - 115s 134ms/step - loss: 0.4364 - accuracy: 0.8418 - val_loss: 0.3061 - val_accuracy: 0.8878\n",
            "\n",
            "Epoch 00002: val_loss improved from 0.37071 to 0.30613, saving model to model.weights.best.hdf5\n",
            "Epoch 3/10\n",
            "860/860 [==============================] - 115s 134ms/step - loss: 0.3746 - accuracy: 0.8607 - val_loss: 0.2913 - val_accuracy: 0.8906\n",
            "\n",
            "Epoch 00003: val_loss improved from 0.30613 to 0.29131, saving model to model.weights.best.hdf5\n",
            "Epoch 4/10\n",
            "860/860 [==============================] - 115s 133ms/step - loss: 0.3435 - accuracy: 0.8750 - val_loss: 0.2652 - val_accuracy: 0.9002\n",
            "\n",
            "Epoch 00004: val_loss improved from 0.29131 to 0.26518, saving model to model.weights.best.hdf5\n",
            "Epoch 5/10\n",
            "860/860 [==============================] - 114s 133ms/step - loss: 0.3257 - accuracy: 0.8801 - val_loss: 0.2477 - val_accuracy: 0.9094\n",
            "\n",
            "Epoch 00005: val_loss improved from 0.26518 to 0.24771, saving model to model.weights.best.hdf5\n",
            "Epoch 6/10\n",
            "860/860 [==============================] - 114s 133ms/step - loss: 0.3044 - accuracy: 0.8870 - val_loss: 0.2452 - val_accuracy: 0.9092\n",
            "\n",
            "Epoch 00006: val_loss improved from 0.24771 to 0.24518, saving model to model.weights.best.hdf5\n",
            "Epoch 7/10\n",
            "860/860 [==============================] - 114s 133ms/step - loss: 0.2875 - accuracy: 0.8943 - val_loss: 0.2416 - val_accuracy: 0.9092\n",
            "\n",
            "Epoch 00007: val_loss improved from 0.24518 to 0.24162, saving model to model.weights.best.hdf5\n",
            "Epoch 8/10\n",
            "860/860 [==============================] - 114s 132ms/step - loss: 0.2885 - accuracy: 0.8917 - val_loss: 0.2284 - val_accuracy: 0.9114\n",
            "\n",
            "Epoch 00008: val_loss improved from 0.24162 to 0.22839, saving model to model.weights.best.hdf5\n",
            "Epoch 9/10\n",
            "860/860 [==============================] - 114s 132ms/step - loss: 0.2764 - accuracy: 0.8962 - val_loss: 0.2311 - val_accuracy: 0.9120\n",
            "\n",
            "Epoch 00009: val_loss did not improve from 0.22839\n",
            "Epoch 10/10\n",
            "860/860 [==============================] - 113s 132ms/step - loss: 0.2716 - accuracy: 0.8995 - val_loss: 0.2161 - val_accuracy: 0.9224\n",
            "\n",
            "Epoch 00010: val_loss improved from 0.22839 to 0.21605, saving model to model.weights.best.hdf5\n"
          ],
          "name": "stdout"
        },
        {
          "output_type": "execute_result",
          "data": {
            "text/plain": [
              "<tensorflow.python.keras.callbacks.History at 0x7f1c67453850>"
            ]
          },
          "metadata": {
            "tags": []
          },
          "execution_count": 88
        }
      ]
    },
    {
      "cell_type": "code",
      "metadata": {
        "id": "8hY-OWqBz-Ce"
      },
      "source": [
        "# Load the weights with the best validation accuracy\r\n",
        "model.load_weights('model.weights.best.hdf5')\r\n"
      ],
      "execution_count": null,
      "outputs": []
    },
    {
      "cell_type": "code",
      "metadata": {
        "id": "Y5pPds2V0Ayd"
      },
      "source": [
        "# Evaluate the model on test set\r\n",
        "score = model.evaluate(x_test, y_test, verbose=0)\r\n",
        "\r\n",
        "# Print test accuracy\r\n",
        "print('\\n', 'Test accuracy:', score[1])\r\n"
      ],
      "execution_count": null,
      "outputs": []
    },
    {
      "cell_type": "code",
      "metadata": {
        "id": "SK9Z3klaexve"
      },
      "source": [
        "model.compile(loss='categorical_crossentropy',\r\n",
        "             optimizer='adam',\r\n",
        "             metrics=['accuracy'])"
      ],
      "execution_count": null,
      "outputs": []
    },
    {
      "cell_type": "code",
      "metadata": {
        "colab": {
          "base_uri": "https://localhost:8080/"
        },
        "id": "TwYXUZWke1mZ",
        "outputId": "4685d097-6671-4eb6-a458-1bbe8b29a6cf"
      },
      "source": [
        "from keras.callbacks import ModelCheckpoint\r\n",
        "\r\n",
        "checkpointer = ModelCheckpoint(filepath='model.weights.best.hdf5', verbose = 1, save_best_only=True)\r\n",
        "model.fit(x_train,\r\n",
        "         y_train,\r\n",
        "         batch_size=64,\r\n",
        "         epochs=10,\r\n",
        "         validation_data=(x_valid, y_valid),\r\n",
        "         callbacks=[checkpointer])"
      ],
      "execution_count": null,
      "outputs": [
        {
          "output_type": "stream",
          "text": [
            "Epoch 1/10\n",
            "860/860 [==============================] - 123s 142ms/step - loss: 0.9568 - accuracy: 0.6499 - val_loss: 0.3655 - val_accuracy: 0.8680\n",
            "\n",
            "Epoch 00001: val_loss improved from inf to 0.36546, saving model to model.weights.best.hdf5\n",
            "Epoch 2/10\n",
            "860/860 [==============================] - 124s 144ms/step - loss: 0.4380 - accuracy: 0.8433 - val_loss: 0.3046 - val_accuracy: 0.8874\n",
            "\n",
            "Epoch 00002: val_loss improved from 0.36546 to 0.30458, saving model to model.weights.best.hdf5\n",
            "Epoch 3/10\n",
            "860/860 [==============================] - 125s 146ms/step - loss: 0.3669 - accuracy: 0.8689 - val_loss: 0.2822 - val_accuracy: 0.8924\n",
            "\n",
            "Epoch 00003: val_loss improved from 0.30458 to 0.28218, saving model to model.weights.best.hdf5\n",
            "Epoch 4/10\n",
            "860/860 [==============================] - 124s 144ms/step - loss: 0.3410 - accuracy: 0.8755 - val_loss: 0.2624 - val_accuracy: 0.9022\n",
            "\n",
            "Epoch 00004: val_loss improved from 0.28218 to 0.26242, saving model to model.weights.best.hdf5\n",
            "Epoch 5/10\n",
            "860/860 [==============================] - 124s 144ms/step - loss: 0.3192 - accuracy: 0.8835 - val_loss: 0.2544 - val_accuracy: 0.9064\n",
            "\n",
            "Epoch 00005: val_loss improved from 0.26242 to 0.25444, saving model to model.weights.best.hdf5\n",
            "Epoch 6/10\n",
            "860/860 [==============================] - 124s 145ms/step - loss: 0.3016 - accuracy: 0.8890 - val_loss: 0.2512 - val_accuracy: 0.9038\n",
            "\n",
            "Epoch 00006: val_loss improved from 0.25444 to 0.25125, saving model to model.weights.best.hdf5\n",
            "Epoch 7/10\n",
            "860/860 [==============================] - 123s 144ms/step - loss: 0.2965 - accuracy: 0.8914 - val_loss: 0.2510 - val_accuracy: 0.9060\n",
            "\n",
            "Epoch 00007: val_loss improved from 0.25125 to 0.25104, saving model to model.weights.best.hdf5\n",
            "Epoch 8/10\n",
            "860/860 [==============================] - 121s 141ms/step - loss: 0.2789 - accuracy: 0.8962 - val_loss: 0.2397 - val_accuracy: 0.9078\n",
            "\n",
            "Epoch 00008: val_loss improved from 0.25104 to 0.23967, saving model to model.weights.best.hdf5\n",
            "Epoch 9/10\n",
            "860/860 [==============================] - 122s 142ms/step - loss: 0.2820 - accuracy: 0.8951 - val_loss: 0.2245 - val_accuracy: 0.9172\n",
            "\n",
            "Epoch 00009: val_loss improved from 0.23967 to 0.22450, saving model to model.weights.best.hdf5\n",
            "Epoch 10/10\n",
            "860/860 [==============================] - 123s 143ms/step - loss: 0.2669 - accuracy: 0.9007 - val_loss: 0.2447 - val_accuracy: 0.9116\n",
            "\n",
            "Epoch 00010: val_loss did not improve from 0.22450\n"
          ],
          "name": "stdout"
        },
        {
          "output_type": "execute_result",
          "data": {
            "text/plain": [
              "<tensorflow.python.keras.callbacks.History at 0x7f351743c150>"
            ]
          },
          "metadata": {
            "tags": []
          },
          "execution_count": 36
        }
      ]
    },
    {
      "cell_type": "code",
      "metadata": {
        "id": "jPSlKoKYe4uY"
      },
      "source": [
        "model.load_weights('model.weights.best.hdf5')"
      ],
      "execution_count": null,
      "outputs": []
    },
    {
      "cell_type": "code",
      "metadata": {
        "colab": {
          "base_uri": "https://localhost:8080/"
        },
        "id": "eqDdREYXhodH",
        "outputId": "b696b570-517e-4809-b40c-82a8fe4a2ee0"
      },
      "source": [
        "\r\n",
        "# Evaluate the model on test set\r\n",
        "score = model.evaluate(x_test, y_test, verbose=0)\r\n",
        "\r\n",
        "# Print test accuracy\r\n",
        "print('\\n', 'Test accuracy:', score[1])"
      ],
      "execution_count": null,
      "outputs": [
        {
          "output_type": "stream",
          "text": [
            "\n",
            " Test accuracy: 0.9120000004768372\n"
          ],
          "name": "stdout"
        }
      ]
    },
    {
      "cell_type": "code",
      "metadata": {
        "colab": {
          "base_uri": "https://localhost:8080/",
          "height": 291
        },
        "id": "uJGozF63hsju",
        "outputId": "2a69d008-97d7-4825-c84f-c7d6474942ec"
      },
      "source": [
        "\r\n",
        "y_hat = model.predict(x_test)\r\n",
        "\r\n",
        "# Plot a random sample of 10 test images, their predicted labels and ground truth\r\n",
        "figure = plt.figure(figsize=(20, 8))\r\n",
        "for i, index in enumerate(np.random.choice(x_test.shape[0], size=15, replace=False)):\r\n",
        "    ax = figure.add_subplot(3, 5, i + 1, xticks=[], yticks=[])\r\n",
        "    # Display each image\r\n",
        "    ax.imshow(np.squeeze(x_test[index]))\r\n",
        "    predict_index = np.argmax(y_hat[index])\r\n",
        "    true_index = np.argmax(y_test[index])\r\n",
        "    # Set the title for each image\r\n",
        "    ax.set_title(\"{} ({})\".format(fashion_mnist_labels[predict_index], \r\n",
        "                                  fashion_mnist_labels[true_index]),\r\n",
        "                                  color=(\"green\" if predict_index == true_index else \"red\"))"
      ],
      "execution_count": null,
      "outputs": [
        {
          "output_type": "display_data",
          "data": {
            "image/png": "[encoded data removed]",
            "text/plain": [
              "<Figure size 1440x576 with 15 Axes>"
            ]
          },
          "metadata": {
            "tags": []
          }
        }
      ]
    },
    {
      "cell_type": "code",
      "metadata": {
        "id": "EQAVsLWxhyMc"
      },
      "source": [
        "  #def cnn_model(features, labels, mode) is more complex than is needed for this assignment    #Reshapinng the input\r\n",
        "    input_layer = tf.reshape(features[\"x\"], [-1, 28, 28, 1])\r\n",
        "    \r\n",
        "# TO DO: WRITE A FUNCTION TO INPUT A CONVOLUTION LAYER,\r\n",
        "#   denoting inputs=input_layer,filters, kernel_size, padding=\"same\",\r\n",
        "#        activation\r\n",
        "def \r\n",
        "# TO DO: WRITE A FUNCTION TO INPUT A POOLING LAYER, \r\n",
        "#    denoting inputs pool_size, strides\r\n",
        "\r\n",
        "# DEFINE THE MODEL USING THE CODE YOU JUST WROTE\r\n",
        "\r\n",
        "     # Convolutional Layer #1 and Pooling Layer #1\r\n",
        "    conv1 = \r\n",
        "    \r\n",
        "    pool1 = tf.layers.max_pooling2d(inputs=conv1, pool_size=[2, 2], strides=2)\r\n",
        "    \r\n",
        "    # Convolutional Layer #2 and Pooling Layer #2\r\n",
        "\r\n",
        "    \r\n",
        "   \r\n",
        "   dropout_1 = tf.layers.dropout(inputs=pool2, rate=0.25,training=mode == tf.estimator.ModeKeys.TRAIN )\r\n",
        "\r\n",
        "    # Convolutional Layer #2 Pooling Layer #2   Dropout #2\r\n",
        "\r\n",
        "    # TO DO: IMPLEMENT CODE FOR THE DECISION AND OUTPUT LAYERS\r\n",
        "\r\n",
        " # Take a look at the model summary\r\n",
        "model.summary()\r\n",
        "\r\n",
        "  #  make sure the model matches the baseline model"
      ],
      "execution_count": null,
      "outputs": []
    }
  ]
}